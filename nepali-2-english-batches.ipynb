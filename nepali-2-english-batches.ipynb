{
 "cells": [
  {
   "cell_type": "code",
   "execution_count": 1,
   "id": "ce47a086",
   "metadata": {
    "execution": {
     "iopub.execute_input": "2024-02-29T19:27:22.900204Z",
     "iopub.status.busy": "2024-02-29T19:27:22.899918Z",
     "iopub.status.idle": "2024-02-29T19:27:45.763429Z",
     "shell.execute_reply": "2024-02-29T19:27:45.762459Z"
    },
    "id": "Mm9aTCeUkZFW",
    "papermill": {
     "duration": 22.884616,
     "end_time": "2024-02-29T19:27:45.765881",
     "exception": false,
     "start_time": "2024-02-29T19:27:22.881265",
     "status": "completed"
    },
    "tags": []
   },
   "outputs": [
    {
     "name": "stderr",
     "output_type": "stream",
     "text": [
      "2024-02-29 19:27:30.323687: E external/local_xla/xla/stream_executor/cuda/cuda_dnn.cc:9261] Unable to register cuDNN factory: Attempting to register factory for plugin cuDNN when one has already been registered\n",
      "2024-02-29 19:27:30.323793: E external/local_xla/xla/stream_executor/cuda/cuda_fft.cc:607] Unable to register cuFFT factory: Attempting to register factory for plugin cuFFT when one has already been registered\n",
      "2024-02-29 19:27:30.600004: E external/local_xla/xla/stream_executor/cuda/cuda_blas.cc:1515] Unable to register cuBLAS factory: Attempting to register factory for plugin cuBLAS when one has already been registered\n"
     ]
    }
   ],
   "source": [
    "import pandas as pd\n",
    "import numpy as np\n",
    "import string\n",
    "from string import digits\n",
    "import matplotlib.pyplot as plt\n",
    "%matplotlib inline\n",
    "import re\n",
    "from sklearn.utils import shuffle\n",
    "from sklearn.model_selection import train_test_split\n",
    "from keras.layers import Input, LSTM, Embedding, Dense\n",
    "from keras.models import Model\n",
    "import pandas as pd\n",
    "import tensorflow as tf"
   ]
  },
  {
   "cell_type": "code",
   "execution_count": 2,
   "id": "c520e752",
   "metadata": {
    "execution": {
     "iopub.execute_input": "2024-02-29T19:27:45.801612Z",
     "iopub.status.busy": "2024-02-29T19:27:45.801055Z",
     "iopub.status.idle": "2024-02-29T19:27:45.805140Z",
     "shell.execute_reply": "2024-02-29T19:27:45.804165Z"
    },
    "papermill": {
     "duration": 0.024142,
     "end_time": "2024-02-29T19:27:45.807224",
     "exception": false,
     "start_time": "2024-02-29T19:27:45.783082",
     "status": "completed"
    },
    "tags": []
   },
   "outputs": [],
   "source": [
    "# import os\n",
    "# os.listdir('/kaggle/input/fra-eng/fra.txt')"
   ]
  },
  {
   "cell_type": "code",
   "execution_count": 3,
   "id": "30322095",
   "metadata": {
    "execution": {
     "iopub.execute_input": "2024-02-29T19:27:45.842801Z",
     "iopub.status.busy": "2024-02-29T19:27:45.842517Z",
     "iopub.status.idle": "2024-02-29T19:27:46.218277Z",
     "shell.execute_reply": "2024-02-29T19:27:46.217295Z"
    },
    "id": "cbCMUHnhKcDb",
    "outputId": "abd4dede-aa6d-473f-a42e-64fba04490b8",
    "papermill": {
     "duration": 0.395759,
     "end_time": "2024-02-29T19:27:46.220737",
     "exception": false,
     "start_time": "2024-02-29T19:27:45.824978",
     "status": "completed"
    },
    "tags": []
   },
   "outputs": [
    {
     "name": "stdout",
     "output_type": "stream",
     "text": [
      "34374\n"
     ]
    }
   ],
   "source": [
    "# '/kaggle/input/fra-eng/fra.txt'\n",
    "# '/kaggle/input/parallel_data.txt'\n",
    "with open('/kaggle/input/parallel_data.txt') as f:\n",
    "    lines = f.read().split(\"\\n\")[:-1]\n",
    "    print(len(lines))\n",
    "text_pairs = []\n",
    "for line in lines:\n",
    "    nep, eng = line.split(\"\\t\")\n",
    "    eng = 'START_ '+eng+' _END'\n",
    "    text_pairs.append((nep, eng))"
   ]
  },
  {
   "cell_type": "code",
   "execution_count": 4,
   "id": "d512341b",
   "metadata": {
    "execution": {
     "iopub.execute_input": "2024-02-29T19:27:46.260540Z",
     "iopub.status.busy": "2024-02-29T19:27:46.259624Z",
     "iopub.status.idle": "2024-02-29T19:27:46.277579Z",
     "shell.execute_reply": "2024-02-29T19:27:46.276597Z"
    },
    "papermill": {
     "duration": 0.03997,
     "end_time": "2024-02-29T19:27:46.279681",
     "exception": false,
     "start_time": "2024-02-29T19:27:46.239711",
     "status": "completed"
    },
    "tags": []
   },
   "outputs": [],
   "source": [
    "df = pd.DataFrame(data=text_pairs, columns=['NEP', 'ENG'])"
   ]
  },
  {
   "cell_type": "code",
   "execution_count": 5,
   "id": "c75601d5",
   "metadata": {
    "execution": {
     "iopub.execute_input": "2024-02-29T19:27:46.318793Z",
     "iopub.status.busy": "2024-02-29T19:27:46.318469Z",
     "iopub.status.idle": "2024-02-29T19:27:46.339086Z",
     "shell.execute_reply": "2024-02-29T19:27:46.338187Z"
    },
    "papermill": {
     "duration": 0.042965,
     "end_time": "2024-02-29T19:27:46.341201",
     "exception": false,
     "start_time": "2024-02-29T19:27:46.298236",
     "status": "completed"
    },
    "tags": []
   },
   "outputs": [
    {
     "data": {
      "text/html": [
       "<div>\n",
       "<style scoped>\n",
       "    .dataframe tbody tr th:only-of-type {\n",
       "        vertical-align: middle;\n",
       "    }\n",
       "\n",
       "    .dataframe tbody tr th {\n",
       "        vertical-align: top;\n",
       "    }\n",
       "\n",
       "    .dataframe thead th {\n",
       "        text-align: right;\n",
       "    }\n",
       "</style>\n",
       "<table border=\"1\" class=\"dataframe\">\n",
       "  <thead>\n",
       "    <tr style=\"text-align: right;\">\n",
       "      <th></th>\n",
       "      <th>NEP</th>\n",
       "      <th>ENG</th>\n",
       "    </tr>\n",
       "  </thead>\n",
       "  <tbody>\n",
       "    <tr>\n",
       "      <th>0</th>\n",
       "      <td>धृतराष्ट्र उवाच धर्मक्षेत्रे कुरुक्षेत्रे समवे...</td>\n",
       "      <td>START_ START_ dhrtarastra said o sanjaya what ...</td>\n",
       "    </tr>\n",
       "    <tr>\n",
       "      <th>1</th>\n",
       "      <td>सञ्जय उवाच दृष्ट्वा तु पाण्डवानीकं व्यूढं दुर्...</td>\n",
       "      <td>START_ START_ sanjaya said seeing the army of ...</td>\n",
       "    </tr>\n",
       "    <tr>\n",
       "      <th>2</th>\n",
       "      <td>पश्यैतां पाण्डुपुत्राणामाचार्य महतीं चमूम्। व्...</td>\n",
       "      <td>START_ START_ o teacher behold this mighty arm...</td>\n",
       "    </tr>\n",
       "    <tr>\n",
       "      <th>3</th>\n",
       "      <td>अत्र शूरा महेष्वासा भीमार्जुनसमा युधि। युयुधान...</td>\n",
       "      <td>START_ START_ the heroes and mighty archers co...</td>\n",
       "    </tr>\n",
       "    <tr>\n",
       "      <th>4</th>\n",
       "      <td>धृष्टकेतुश्चेकितानः काशिराजश्च वीर्यवान्। पुरु...</td>\n",
       "      <td>START_ START_ dhrstaketu cekitana and the valo...</td>\n",
       "    </tr>\n",
       "    <tr>\n",
       "      <th>...</th>\n",
       "      <td>...</td>\n",
       "      <td>...</td>\n",
       "    </tr>\n",
       "    <tr>\n",
       "      <th>34369</th>\n",
       "      <td>अगछःसोमिनो गर्हम</td>\n",
       "      <td>START_ START_ and sought the somapourers home ...</td>\n",
       "    </tr>\n",
       "    <tr>\n",
       "      <th>34370</th>\n",
       "      <td>तवं तयमिन्द्र मर्त्यमास्त्रबुध्नाय वेन्यम</td>\n",
       "      <td>START_ START_ venya that mortal man hast thou ...</td>\n",
       "    </tr>\n",
       "    <tr>\n",
       "      <th>34371</th>\n",
       "      <td>मुहुःश्रथ्ना मनस्यवे</td>\n",
       "      <td>START_ START_ o indra many a time set free _EN...</td>\n",
       "    </tr>\n",
       "    <tr>\n",
       "      <th>34372</th>\n",
       "      <td>तवं तयमिन्द्र सूर्यं पश्चा सन्तं पुरस कर्धि</td>\n",
       "      <td>START_ START_ bring indra to the east again th...</td>\n",
       "    </tr>\n",
       "    <tr>\n",
       "      <th>34373</th>\n",
       "      <td>देवानां चित तिरो वशम</td>\n",
       "      <td>START_ START_ even against the will of gods _E...</td>\n",
       "    </tr>\n",
       "  </tbody>\n",
       "</table>\n",
       "<p>34374 rows × 2 columns</p>\n",
       "</div>"
      ],
      "text/plain": [
       "                                                     NEP  \\\n",
       "0      धृतराष्ट्र उवाच धर्मक्षेत्रे कुरुक्षेत्रे समवे...   \n",
       "1      सञ्जय उवाच दृष्ट्वा तु पाण्डवानीकं व्यूढं दुर्...   \n",
       "2      पश्यैतां पाण्डुपुत्राणामाचार्य महतीं चमूम्। व्...   \n",
       "3      अत्र शूरा महेष्वासा भीमार्जुनसमा युधि। युयुधान...   \n",
       "4      धृष्टकेतुश्चेकितानः काशिराजश्च वीर्यवान्। पुरु...   \n",
       "...                                                  ...   \n",
       "34369                                   अगछःसोमिनो गर्हम   \n",
       "34370          तवं तयमिन्द्र मर्त्यमास्त्रबुध्नाय वेन्यम   \n",
       "34371                               मुहुःश्रथ्ना मनस्यवे   \n",
       "34372        तवं तयमिन्द्र सूर्यं पश्चा सन्तं पुरस कर्धि   \n",
       "34373                               देवानां चित तिरो वशम   \n",
       "\n",
       "                                                     ENG  \n",
       "0      START_ START_ dhrtarastra said o sanjaya what ...  \n",
       "1      START_ START_ sanjaya said seeing the army of ...  \n",
       "2      START_ START_ o teacher behold this mighty arm...  \n",
       "3      START_ START_ the heroes and mighty archers co...  \n",
       "4      START_ START_ dhrstaketu cekitana and the valo...  \n",
       "...                                                  ...  \n",
       "34369  START_ START_ and sought the somapourers home ...  \n",
       "34370  START_ START_ venya that mortal man hast thou ...  \n",
       "34371  START_ START_ o indra many a time set free _EN...  \n",
       "34372  START_ START_ bring indra to the east again th...  \n",
       "34373  START_ START_ even against the will of gods _E...  \n",
       "\n",
       "[34374 rows x 2 columns]"
      ]
     },
     "execution_count": 5,
     "metadata": {},
     "output_type": "execute_result"
    }
   ],
   "source": [
    "df"
   ]
  },
  {
   "cell_type": "code",
   "execution_count": 6,
   "id": "a7401ae2",
   "metadata": {
    "execution": {
     "iopub.execute_input": "2024-02-29T19:27:46.377276Z",
     "iopub.status.busy": "2024-02-29T19:27:46.377002Z",
     "iopub.status.idle": "2024-02-29T19:27:47.513067Z",
     "shell.execute_reply": "2024-02-29T19:27:47.511608Z"
    },
    "papermill": {
     "duration": 1.15783,
     "end_time": "2024-02-29T19:27:47.516267",
     "exception": false,
     "start_time": "2024-02-29T19:27:46.358437",
     "status": "completed"
    },
    "tags": []
   },
   "outputs": [
    {
     "name": "stdout",
     "output_type": "stream",
     "text": [
      "[nltk_data] Downloading package stopwords to /usr/share/nltk_data...\n",
      "[nltk_data]   Package stopwords is already up-to-date!\n"
     ]
    }
   ],
   "source": [
    "import nltk\n",
    "from nltk.corpus import stopwords\n",
    "nltk.download('stopwords')\n",
    "\n",
    "def remove_stopwords(text):\n",
    "    stop_words = set(stopwords.words(\"english\"))\n",
    "    words = text.split()\n",
    "    filtered_text = [word for word in words if word.lower() not in stop_words]\n",
    "    return ' '.join(filtered_text)"
   ]
  },
  {
   "cell_type": "code",
   "execution_count": 7,
   "id": "8e8ceb11",
   "metadata": {
    "execution": {
     "iopub.execute_input": "2024-02-29T19:27:47.566068Z",
     "iopub.status.busy": "2024-02-29T19:27:47.565713Z",
     "iopub.status.idle": "2024-02-29T19:27:52.441722Z",
     "shell.execute_reply": "2024-02-29T19:27:52.440723Z"
    },
    "papermill": {
     "duration": 4.899737,
     "end_time": "2024-02-29T19:27:52.444030",
     "exception": false,
     "start_time": "2024-02-29T19:27:47.544293",
     "status": "completed"
    },
    "tags": []
   },
   "outputs": [],
   "source": [
    "df.ENG = df.ENG.apply(remove_stopwords)"
   ]
  },
  {
   "cell_type": "code",
   "execution_count": 8,
   "id": "dcc52149",
   "metadata": {
    "execution": {
     "iopub.execute_input": "2024-02-29T19:27:52.480913Z",
     "iopub.status.busy": "2024-02-29T19:27:52.480597Z",
     "iopub.status.idle": "2024-02-29T19:27:52.666519Z",
     "shell.execute_reply": "2024-02-29T19:27:52.665497Z"
    },
    "papermill": {
     "duration": 0.206978,
     "end_time": "2024-02-29T19:27:52.668895",
     "exception": false,
     "start_time": "2024-02-29T19:27:52.461917",
     "status": "completed"
    },
    "tags": []
   },
   "outputs": [],
   "source": [
    "# Lowercase all characters\n",
    "df.ENG = df.ENG.apply(lambda x: re.sub(' _END','',re.sub('START_ ','',x)))\n",
    "df.NEP=df.NEP.apply(lambda x: x.lower())\n",
    "df.ENG=df.ENG.apply(lambda x: x.lower())"
   ]
  },
  {
   "cell_type": "code",
   "execution_count": 9,
   "id": "ef99fd03",
   "metadata": {
    "execution": {
     "iopub.execute_input": "2024-02-29T19:27:52.710004Z",
     "iopub.status.busy": "2024-02-29T19:27:52.709702Z",
     "iopub.status.idle": "2024-02-29T19:27:52.723557Z",
     "shell.execute_reply": "2024-02-29T19:27:52.722491Z"
    },
    "papermill": {
     "duration": 0.035253,
     "end_time": "2024-02-29T19:27:52.725676",
     "exception": false,
     "start_time": "2024-02-29T19:27:52.690423",
     "status": "completed"
    },
    "tags": []
   },
   "outputs": [
    {
     "data": {
      "text/html": [
       "<div>\n",
       "<style scoped>\n",
       "    .dataframe tbody tr th:only-of-type {\n",
       "        vertical-align: middle;\n",
       "    }\n",
       "\n",
       "    .dataframe tbody tr th {\n",
       "        vertical-align: top;\n",
       "    }\n",
       "\n",
       "    .dataframe thead th {\n",
       "        text-align: right;\n",
       "    }\n",
       "</style>\n",
       "<table border=\"1\" class=\"dataframe\">\n",
       "  <thead>\n",
       "    <tr style=\"text-align: right;\">\n",
       "      <th></th>\n",
       "      <th>NEP</th>\n",
       "      <th>ENG</th>\n",
       "    </tr>\n",
       "  </thead>\n",
       "  <tbody>\n",
       "    <tr>\n",
       "      <th>0</th>\n",
       "      <td>धृतराष्ट्र उवाच धर्मक्षेत्रे कुरुक्षेत्रे समवे...</td>\n",
       "      <td>dhrtarastra said sanjaya men sons pandu kuruks...</td>\n",
       "    </tr>\n",
       "    <tr>\n",
       "      <th>1</th>\n",
       "      <td>सञ्जय उवाच दृष्ट्वा तु पाण्डवानीकं व्यूढं दुर्...</td>\n",
       "      <td>sanjaya said seeing army sons pandu marshalled...</td>\n",
       "    </tr>\n",
       "    <tr>\n",
       "      <th>2</th>\n",
       "      <td>पश्यैतां पाण्डुपुत्राणामाचार्य महतीं चमूम्। व्...</td>\n",
       "      <td>teacher behold mighty army sons pandu marshall...</td>\n",
       "    </tr>\n",
       "    <tr>\n",
       "      <th>3</th>\n",
       "      <td>अत्र शूरा महेष्वासा भीमार्जुनसमा युधि। युयुधान...</td>\n",
       "      <td>heroes mighty archers comparable war bhima arj...</td>\n",
       "    </tr>\n",
       "    <tr>\n",
       "      <th>4</th>\n",
       "      <td>धृष्टकेतुश्चेकितानः काशिराजश्च वीर्यवान्। पुरु...</td>\n",
       "      <td>dhrstaketu cekitana valourous king kasi kuntib...</td>\n",
       "    </tr>\n",
       "    <tr>\n",
       "      <th>...</th>\n",
       "      <td>...</td>\n",
       "      <td>...</td>\n",
       "    </tr>\n",
       "    <tr>\n",
       "      <th>34369</th>\n",
       "      <td>अगछःसोमिनो गर्हम</td>\n",
       "      <td>sought somapourers home</td>\n",
       "    </tr>\n",
       "    <tr>\n",
       "      <th>34370</th>\n",
       "      <td>तवं तयमिन्द्र मर्त्यमास्त्रबुध्नाय वेन्यम</td>\n",
       "      <td>venya mortal man hast thou āstrabudhna devout</td>\n",
       "    </tr>\n",
       "    <tr>\n",
       "      <th>34371</th>\n",
       "      <td>मुहुःश्रथ्ना मनस्यवे</td>\n",
       "      <td>indra many time set free</td>\n",
       "    </tr>\n",
       "    <tr>\n",
       "      <th>34372</th>\n",
       "      <td>तवं तयमिन्द्र सूर्यं पश्चा सन्तं पुरस कर्धि</td>\n",
       "      <td>bring indra east sun west</td>\n",
       "    </tr>\n",
       "    <tr>\n",
       "      <th>34373</th>\n",
       "      <td>देवानां चित तिरो वशम</td>\n",
       "      <td>even gods</td>\n",
       "    </tr>\n",
       "  </tbody>\n",
       "</table>\n",
       "<p>34374 rows × 2 columns</p>\n",
       "</div>"
      ],
      "text/plain": [
       "                                                     NEP  \\\n",
       "0      धृतराष्ट्र उवाच धर्मक्षेत्रे कुरुक्षेत्रे समवे...   \n",
       "1      सञ्जय उवाच दृष्ट्वा तु पाण्डवानीकं व्यूढं दुर्...   \n",
       "2      पश्यैतां पाण्डुपुत्राणामाचार्य महतीं चमूम्। व्...   \n",
       "3      अत्र शूरा महेष्वासा भीमार्जुनसमा युधि। युयुधान...   \n",
       "4      धृष्टकेतुश्चेकितानः काशिराजश्च वीर्यवान्। पुरु...   \n",
       "...                                                  ...   \n",
       "34369                                   अगछःसोमिनो गर्हम   \n",
       "34370          तवं तयमिन्द्र मर्त्यमास्त्रबुध्नाय वेन्यम   \n",
       "34371                               मुहुःश्रथ्ना मनस्यवे   \n",
       "34372        तवं तयमिन्द्र सूर्यं पश्चा सन्तं पुरस कर्धि   \n",
       "34373                               देवानां चित तिरो वशम   \n",
       "\n",
       "                                                     ENG  \n",
       "0      dhrtarastra said sanjaya men sons pandu kuruks...  \n",
       "1      sanjaya said seeing army sons pandu marshalled...  \n",
       "2      teacher behold mighty army sons pandu marshall...  \n",
       "3      heroes mighty archers comparable war bhima arj...  \n",
       "4      dhrstaketu cekitana valourous king kasi kuntib...  \n",
       "...                                                  ...  \n",
       "34369                            sought somapourers home  \n",
       "34370      venya mortal man hast thou āstrabudhna devout  \n",
       "34371                           indra many time set free  \n",
       "34372                          bring indra east sun west  \n",
       "34373                                          even gods  \n",
       "\n",
       "[34374 rows x 2 columns]"
      ]
     },
     "execution_count": 9,
     "metadata": {},
     "output_type": "execute_result"
    }
   ],
   "source": [
    "df"
   ]
  },
  {
   "cell_type": "code",
   "execution_count": 10,
   "id": "69c242be",
   "metadata": {
    "execution": {
     "iopub.execute_input": "2024-02-29T19:27:52.762637Z",
     "iopub.status.busy": "2024-02-29T19:27:52.762342Z",
     "iopub.status.idle": "2024-02-29T19:27:52.868243Z",
     "shell.execute_reply": "2024-02-29T19:27:52.867555Z"
    },
    "papermill": {
     "duration": 0.125882,
     "end_time": "2024-02-29T19:27:52.870096",
     "exception": false,
     "start_time": "2024-02-29T19:27:52.744214",
     "status": "completed"
    },
    "tags": []
   },
   "outputs": [],
   "source": [
    "# Remove quotes\n",
    "df.NEP=df.NEP.apply(lambda x: re.sub(\"'\", '', x))\n",
    "df.ENG=df.ENG.apply(lambda x: re.sub(\"'\", '', x))"
   ]
  },
  {
   "cell_type": "code",
   "execution_count": 11,
   "id": "4bcfa14d",
   "metadata": {
    "execution": {
     "iopub.execute_input": "2024-02-29T19:27:52.906828Z",
     "iopub.status.busy": "2024-02-29T19:27:52.906542Z",
     "iopub.status.idle": "2024-02-29T19:27:53.730860Z",
     "shell.execute_reply": "2024-02-29T19:27:53.729815Z"
    },
    "papermill": {
     "duration": 0.845359,
     "end_time": "2024-02-29T19:27:53.733388",
     "exception": false,
     "start_time": "2024-02-29T19:27:52.888029",
     "status": "completed"
    },
    "tags": []
   },
   "outputs": [],
   "source": [
    "exclude = set(string.punctuation) # Set of all special characters\n",
    "# Remove all the special characters\n",
    "df.NEP=df.NEP.apply(lambda x: ''.join(ch for ch in x if ch not in exclude))\n",
    "df.ENG=df.ENG.apply(lambda x: ''.join(ch for ch in x if ch not in exclude))"
   ]
  },
  {
   "cell_type": "code",
   "execution_count": 12,
   "id": "e5b8e0d9",
   "metadata": {
    "execution": {
     "iopub.execute_input": "2024-02-29T19:27:53.769808Z",
     "iopub.status.busy": "2024-02-29T19:27:53.769507Z",
     "iopub.status.idle": "2024-02-29T19:27:54.203595Z",
     "shell.execute_reply": "2024-02-29T19:27:54.202619Z"
    },
    "papermill": {
     "duration": 0.454676,
     "end_time": "2024-02-29T19:27:54.205814",
     "exception": false,
     "start_time": "2024-02-29T19:27:53.751138",
     "status": "completed"
    },
    "tags": []
   },
   "outputs": [],
   "source": [
    "# Remove all numbers from text\n",
    "remove_digits = str.maketrans('', '', digits)\n",
    "df.NEP=df.NEP.apply(lambda x: x.translate(remove_digits))\n",
    "\n",
    "df.NEP = df.NEP.apply(lambda x: re.sub(\"[२३०८१५७९४६]\", \"\", x))\n",
    "df.ENG = df.ENG.apply(lambda x: re.sub(\"[२३०८१५७९४६]\", \"\", x))"
   ]
  },
  {
   "cell_type": "code",
   "execution_count": 13,
   "id": "d1657e00",
   "metadata": {
    "execution": {
     "iopub.execute_input": "2024-02-29T19:27:54.242494Z",
     "iopub.status.busy": "2024-02-29T19:27:54.242161Z",
     "iopub.status.idle": "2024-02-29T19:27:54.651077Z",
     "shell.execute_reply": "2024-02-29T19:27:54.650015Z"
    },
    "papermill": {
     "duration": 0.429705,
     "end_time": "2024-02-29T19:27:54.653534",
     "exception": false,
     "start_time": "2024-02-29T19:27:54.223829",
     "status": "completed"
    },
    "tags": []
   },
   "outputs": [],
   "source": [
    "# Remove extra spaces\n",
    "df.NEP=df.NEP.apply(lambda x: x.strip())\n",
    "df.ENG=df.ENG.apply(lambda x: x.strip())\n",
    "df.NEP=df.NEP.apply(lambda x: re.sub(\" +\", \" \", x))\n",
    "df.ENG=df.ENG.apply(lambda x: re.sub(\" +\", \" \", x))"
   ]
  },
  {
   "cell_type": "code",
   "execution_count": 14,
   "id": "228458f2",
   "metadata": {
    "execution": {
     "iopub.execute_input": "2024-02-29T19:27:54.690217Z",
     "iopub.status.busy": "2024-02-29T19:27:54.689843Z",
     "iopub.status.idle": "2024-02-29T19:27:54.710808Z",
     "shell.execute_reply": "2024-02-29T19:27:54.709929Z"
    },
    "papermill": {
     "duration": 0.041388,
     "end_time": "2024-02-29T19:27:54.712767",
     "exception": false,
     "start_time": "2024-02-29T19:27:54.671379",
     "status": "completed"
    },
    "tags": []
   },
   "outputs": [],
   "source": [
    "df.ENG = df.ENG.apply(lambda x : 'START_ '+ x + ' _END')"
   ]
  },
  {
   "cell_type": "code",
   "execution_count": 15,
   "id": "e61951f7",
   "metadata": {
    "execution": {
     "iopub.execute_input": "2024-02-29T19:27:54.748883Z",
     "iopub.status.busy": "2024-02-29T19:27:54.748579Z",
     "iopub.status.idle": "2024-02-29T19:27:54.759133Z",
     "shell.execute_reply": "2024-02-29T19:27:54.758307Z"
    },
    "papermill": {
     "duration": 0.030738,
     "end_time": "2024-02-29T19:27:54.761008",
     "exception": false,
     "start_time": "2024-02-29T19:27:54.730270",
     "status": "completed"
    },
    "tags": []
   },
   "outputs": [
    {
     "data": {
      "text/html": [
       "<div>\n",
       "<style scoped>\n",
       "    .dataframe tbody tr th:only-of-type {\n",
       "        vertical-align: middle;\n",
       "    }\n",
       "\n",
       "    .dataframe tbody tr th {\n",
       "        vertical-align: top;\n",
       "    }\n",
       "\n",
       "    .dataframe thead th {\n",
       "        text-align: right;\n",
       "    }\n",
       "</style>\n",
       "<table border=\"1\" class=\"dataframe\">\n",
       "  <thead>\n",
       "    <tr style=\"text-align: right;\">\n",
       "      <th></th>\n",
       "      <th>NEP</th>\n",
       "      <th>ENG</th>\n",
       "    </tr>\n",
       "  </thead>\n",
       "  <tbody>\n",
       "    <tr>\n",
       "      <th>0</th>\n",
       "      <td>धृतराष्ट्र उवाच धर्मक्षेत्रे कुरुक्षेत्रे समवे...</td>\n",
       "      <td>START_ dhrtarastra said sanjaya men sons pandu...</td>\n",
       "    </tr>\n",
       "    <tr>\n",
       "      <th>1</th>\n",
       "      <td>सञ्जय उवाच दृष्ट्वा तु पाण्डवानीकं व्यूढं दुर्...</td>\n",
       "      <td>START_ sanjaya said seeing army sons pandu mar...</td>\n",
       "    </tr>\n",
       "    <tr>\n",
       "      <th>2</th>\n",
       "      <td>पश्यैतां पाण्डुपुत्राणामाचार्य महतीं चमूम्। व्...</td>\n",
       "      <td>START_ teacher behold mighty army sons pandu m...</td>\n",
       "    </tr>\n",
       "    <tr>\n",
       "      <th>3</th>\n",
       "      <td>अत्र शूरा महेष्वासा भीमार्जुनसमा युधि। युयुधान...</td>\n",
       "      <td>START_ heroes mighty archers comparable war bh...</td>\n",
       "    </tr>\n",
       "    <tr>\n",
       "      <th>4</th>\n",
       "      <td>धृष्टकेतुश्चेकितानः काशिराजश्च वीर्यवान्। पुरु...</td>\n",
       "      <td>START_ dhrstaketu cekitana valourous king kasi...</td>\n",
       "    </tr>\n",
       "    <tr>\n",
       "      <th>...</th>\n",
       "      <td>...</td>\n",
       "      <td>...</td>\n",
       "    </tr>\n",
       "    <tr>\n",
       "      <th>34369</th>\n",
       "      <td>अगछःसोमिनो गर्हम</td>\n",
       "      <td>START_ sought somapourers home _END</td>\n",
       "    </tr>\n",
       "    <tr>\n",
       "      <th>34370</th>\n",
       "      <td>तवं तयमिन्द्र मर्त्यमास्त्रबुध्नाय वेन्यम</td>\n",
       "      <td>START_ venya mortal man hast thou āstrabudhna ...</td>\n",
       "    </tr>\n",
       "    <tr>\n",
       "      <th>34371</th>\n",
       "      <td>मुहुःश्रथ्ना मनस्यवे</td>\n",
       "      <td>START_ indra many time set free _END</td>\n",
       "    </tr>\n",
       "    <tr>\n",
       "      <th>34372</th>\n",
       "      <td>तवं तयमिन्द्र सूर्यं पश्चा सन्तं पुरस कर्धि</td>\n",
       "      <td>START_ bring indra east sun west _END</td>\n",
       "    </tr>\n",
       "    <tr>\n",
       "      <th>34373</th>\n",
       "      <td>देवानां चित तिरो वशम</td>\n",
       "      <td>START_ even gods _END</td>\n",
       "    </tr>\n",
       "  </tbody>\n",
       "</table>\n",
       "<p>34374 rows × 2 columns</p>\n",
       "</div>"
      ],
      "text/plain": [
       "                                                     NEP  \\\n",
       "0      धृतराष्ट्र उवाच धर्मक्षेत्रे कुरुक्षेत्रे समवे...   \n",
       "1      सञ्जय उवाच दृष्ट्वा तु पाण्डवानीकं व्यूढं दुर्...   \n",
       "2      पश्यैतां पाण्डुपुत्राणामाचार्य महतीं चमूम्। व्...   \n",
       "3      अत्र शूरा महेष्वासा भीमार्जुनसमा युधि। युयुधान...   \n",
       "4      धृष्टकेतुश्चेकितानः काशिराजश्च वीर्यवान्। पुरु...   \n",
       "...                                                  ...   \n",
       "34369                                   अगछःसोमिनो गर्हम   \n",
       "34370          तवं तयमिन्द्र मर्त्यमास्त्रबुध्नाय वेन्यम   \n",
       "34371                               मुहुःश्रथ्ना मनस्यवे   \n",
       "34372        तवं तयमिन्द्र सूर्यं पश्चा सन्तं पुरस कर्धि   \n",
       "34373                               देवानां चित तिरो वशम   \n",
       "\n",
       "                                                     ENG  \n",
       "0      START_ dhrtarastra said sanjaya men sons pandu...  \n",
       "1      START_ sanjaya said seeing army sons pandu mar...  \n",
       "2      START_ teacher behold mighty army sons pandu m...  \n",
       "3      START_ heroes mighty archers comparable war bh...  \n",
       "4      START_ dhrstaketu cekitana valourous king kasi...  \n",
       "...                                                  ...  \n",
       "34369                START_ sought somapourers home _END  \n",
       "34370  START_ venya mortal man hast thou āstrabudhna ...  \n",
       "34371               START_ indra many time set free _END  \n",
       "34372              START_ bring indra east sun west _END  \n",
       "34373                              START_ even gods _END  \n",
       "\n",
       "[34374 rows x 2 columns]"
      ]
     },
     "execution_count": 15,
     "metadata": {},
     "output_type": "execute_result"
    }
   ],
   "source": [
    "df"
   ]
  },
  {
   "cell_type": "code",
   "execution_count": 16,
   "id": "b45ade22",
   "metadata": {
    "execution": {
     "iopub.execute_input": "2024-02-29T19:27:54.797154Z",
     "iopub.status.busy": "2024-02-29T19:27:54.796889Z",
     "iopub.status.idle": "2024-02-29T19:27:55.038218Z",
     "shell.execute_reply": "2024-02-29T19:27:55.037199Z"
    },
    "papermill": {
     "duration": 0.261812,
     "end_time": "2024-02-29T19:27:55.040430",
     "exception": false,
     "start_time": "2024-02-29T19:27:54.778618",
     "status": "completed"
    },
    "tags": []
   },
   "outputs": [],
   "source": [
    "# Vocabulary of Nepali \n",
    "all_nepali_words=set()\n",
    "for nep in df.NEP:\n",
    "    for word in nep.split():\n",
    "        if word not in all_nepali_words:\n",
    "            all_nepali_words.add(word)\n",
    "# Vocabulary of English\n",
    "all_eng_words=set()\n",
    "for eng in df.ENG:\n",
    "    for word in eng.split():\n",
    "        if word not in all_eng_words:\n",
    "            all_eng_words.add(word)"
   ]
  },
  {
   "cell_type": "code",
   "execution_count": 17,
   "id": "7f25ae7e",
   "metadata": {
    "execution": {
     "iopub.execute_input": "2024-02-29T19:27:55.080503Z",
     "iopub.status.busy": "2024-02-29T19:27:55.080154Z",
     "iopub.status.idle": "2024-02-29T19:27:55.085918Z",
     "shell.execute_reply": "2024-02-29T19:27:55.085051Z"
    },
    "papermill": {
     "duration": 0.028386,
     "end_time": "2024-02-29T19:27:55.087901",
     "exception": false,
     "start_time": "2024-02-29T19:27:55.059515",
     "status": "completed"
    },
    "tags": []
   },
   "outputs": [
    {
     "data": {
      "text/plain": [
       "(125544, 24245)"
      ]
     },
     "execution_count": 17,
     "metadata": {},
     "output_type": "execute_result"
    }
   ],
   "source": [
    "len(all_nepali_words), len(all_eng_words)"
   ]
  },
  {
   "cell_type": "code",
   "execution_count": 18,
   "id": "04a15d6d",
   "metadata": {
    "execution": {
     "iopub.execute_input": "2024-02-29T19:27:55.124462Z",
     "iopub.status.busy": "2024-02-29T19:27:55.124176Z",
     "iopub.status.idle": "2024-02-29T19:27:55.128095Z",
     "shell.execute_reply": "2024-02-29T19:27:55.127227Z"
    },
    "papermill": {
     "duration": 0.024396,
     "end_time": "2024-02-29T19:27:55.130062",
     "exception": false,
     "start_time": "2024-02-29T19:27:55.105666",
     "status": "completed"
    },
    "tags": []
   },
   "outputs": [],
   "source": [
    "all_nepali_words.add('<UNK>')\n",
    "all_eng_words.add('<UNK>')"
   ]
  },
  {
   "cell_type": "code",
   "execution_count": 19,
   "id": "d763f310",
   "metadata": {
    "execution": {
     "iopub.execute_input": "2024-02-29T19:27:55.167204Z",
     "iopub.status.busy": "2024-02-29T19:27:55.166686Z",
     "iopub.status.idle": "2024-02-29T19:27:55.219761Z",
     "shell.execute_reply": "2024-02-29T19:27:55.218840Z"
    },
    "papermill": {
     "duration": 0.073535,
     "end_time": "2024-02-29T19:27:55.221714",
     "exception": false,
     "start_time": "2024-02-29T19:27:55.148179",
     "status": "completed"
    },
    "tags": []
   },
   "outputs": [
    {
     "data": {
      "text/plain": [
       "78"
      ]
     },
     "execution_count": 19,
     "metadata": {},
     "output_type": "execute_result"
    }
   ],
   "source": [
    "# Max Length of source sequence\n",
    "lenght_list=[]\n",
    "for l in df.NEP:\n",
    "    lenght_list.append(len(l.split(' ')))\n",
    "max_length_src = np.max(lenght_list)\n",
    "max_length_src"
   ]
  },
  {
   "cell_type": "code",
   "execution_count": 20,
   "id": "1a178efa",
   "metadata": {
    "execution": {
     "iopub.execute_input": "2024-02-29T19:27:55.259302Z",
     "iopub.status.busy": "2024-02-29T19:27:55.258997Z",
     "iopub.status.idle": "2024-02-29T19:27:55.314540Z",
     "shell.execute_reply": "2024-02-29T19:27:55.313646Z"
    },
    "papermill": {
     "duration": 0.076834,
     "end_time": "2024-02-29T19:27:55.316740",
     "exception": false,
     "start_time": "2024-02-29T19:27:55.239906",
     "status": "completed"
    },
    "tags": []
   },
   "outputs": [
    {
     "data": {
      "text/plain": [
       "117"
      ]
     },
     "execution_count": 20,
     "metadata": {},
     "output_type": "execute_result"
    }
   ],
   "source": [
    "# Max Length of target sequence\n",
    "lenght_list=[]\n",
    "for l in df.ENG:\n",
    "    lenght_list.append(len(l.split(' ')))\n",
    "max_length_tar = np.max(lenght_list)\n",
    "max_length_tar"
   ]
  },
  {
   "cell_type": "code",
   "execution_count": 21,
   "id": "d93a0ddb",
   "metadata": {
    "execution": {
     "iopub.execute_input": "2024-02-29T19:27:55.394481Z",
     "iopub.status.busy": "2024-02-29T19:27:55.394144Z",
     "iopub.status.idle": "2024-02-29T19:27:55.499215Z",
     "shell.execute_reply": "2024-02-29T19:27:55.498293Z"
    },
    "papermill": {
     "duration": 0.165218,
     "end_time": "2024-02-29T19:27:55.501108",
     "exception": false,
     "start_time": "2024-02-29T19:27:55.335890",
     "status": "completed"
    },
    "tags": []
   },
   "outputs": [
    {
     "data": {
      "text/plain": [
       "(125545, 24246)"
      ]
     },
     "execution_count": 21,
     "metadata": {},
     "output_type": "execute_result"
    }
   ],
   "source": [
    "input_words = sorted(list(all_nepali_words))\n",
    "target_words = sorted(list(all_eng_words))\n",
    "num_encoder_tokens = len(all_nepali_words)\n",
    "num_decoder_tokens = len(all_eng_words)\n",
    "num_encoder_tokens, num_decoder_tokens"
   ]
  },
  {
   "cell_type": "code",
   "execution_count": 22,
   "id": "931aa30f",
   "metadata": {
    "execution": {
     "iopub.execute_input": "2024-02-29T19:27:55.539256Z",
     "iopub.status.busy": "2024-02-29T19:27:55.538943Z",
     "iopub.status.idle": "2024-02-29T19:27:55.545219Z",
     "shell.execute_reply": "2024-02-29T19:27:55.544399Z"
    },
    "papermill": {
     "duration": 0.027273,
     "end_time": "2024-02-29T19:27:55.547004",
     "exception": false,
     "start_time": "2024-02-29T19:27:55.519731",
     "status": "completed"
    },
    "tags": []
   },
   "outputs": [
    {
     "data": {
      "text/plain": [
       "24247"
      ]
     },
     "execution_count": 22,
     "metadata": {},
     "output_type": "execute_result"
    }
   ],
   "source": [
    "num_decoder_tokens += 1 # For zero padding\n",
    "num_decoder_tokens"
   ]
  },
  {
   "cell_type": "code",
   "execution_count": 23,
   "id": "d7209779",
   "metadata": {
    "execution": {
     "iopub.execute_input": "2024-02-29T19:27:55.585333Z",
     "iopub.status.busy": "2024-02-29T19:27:55.585037Z",
     "iopub.status.idle": "2024-02-29T19:27:55.676507Z",
     "shell.execute_reply": "2024-02-29T19:27:55.675680Z"
    },
    "papermill": {
     "duration": 0.113146,
     "end_time": "2024-02-29T19:27:55.678853",
     "exception": false,
     "start_time": "2024-02-29T19:27:55.565707",
     "status": "completed"
    },
    "tags": []
   },
   "outputs": [],
   "source": [
    "input_token_index = dict([(word, i+1) for i, word in enumerate(input_words)])\n",
    "target_token_index = dict([(word, i+1) for i, word in enumerate(target_words)])"
   ]
  },
  {
   "cell_type": "code",
   "execution_count": 24,
   "id": "37b4fd7a",
   "metadata": {
    "execution": {
     "iopub.execute_input": "2024-02-29T19:27:55.717845Z",
     "iopub.status.busy": "2024-02-29T19:27:55.717530Z",
     "iopub.status.idle": "2024-02-29T19:27:55.758904Z",
     "shell.execute_reply": "2024-02-29T19:27:55.757985Z"
    },
    "papermill": {
     "duration": 0.062909,
     "end_time": "2024-02-29T19:27:55.760894",
     "exception": false,
     "start_time": "2024-02-29T19:27:55.697985",
     "status": "completed"
    },
    "tags": []
   },
   "outputs": [],
   "source": [
    "reverse_input_char_index = dict((i, word) for word, i in input_token_index.items())\n",
    "reverse_target_char_index = dict((i, word) for word, i in target_token_index.items())"
   ]
  },
  {
   "cell_type": "code",
   "execution_count": 25,
   "id": "32f0894d",
   "metadata": {
    "execution": {
     "iopub.execute_input": "2024-02-29T19:27:55.799427Z",
     "iopub.status.busy": "2024-02-29T19:27:55.799141Z",
     "iopub.status.idle": "2024-02-29T19:27:55.813403Z",
     "shell.execute_reply": "2024-02-29T19:27:55.812550Z"
    },
    "papermill": {
     "duration": 0.036124,
     "end_time": "2024-02-29T19:27:55.815555",
     "exception": false,
     "start_time": "2024-02-29T19:27:55.779431",
     "status": "completed"
    },
    "tags": []
   },
   "outputs": [
    {
     "data": {
      "text/html": [
       "<div>\n",
       "<style scoped>\n",
       "    .dataframe tbody tr th:only-of-type {\n",
       "        vertical-align: middle;\n",
       "    }\n",
       "\n",
       "    .dataframe tbody tr th {\n",
       "        vertical-align: top;\n",
       "    }\n",
       "\n",
       "    .dataframe thead th {\n",
       "        text-align: right;\n",
       "    }\n",
       "</style>\n",
       "<table border=\"1\" class=\"dataframe\">\n",
       "  <thead>\n",
       "    <tr style=\"text-align: right;\">\n",
       "      <th></th>\n",
       "      <th>NEP</th>\n",
       "      <th>ENG</th>\n",
       "    </tr>\n",
       "  </thead>\n",
       "  <tbody>\n",
       "    <tr>\n",
       "      <th>17172</th>\n",
       "      <td>अहं पुत्रसहाया त्वामुपासे गतचेतसम्। सिंहेन निह...</td>\n",
       "      <td>START_ like cow followed calf would attend upo...</td>\n",
       "    </tr>\n",
       "    <tr>\n",
       "      <th>32438</th>\n",
       "      <td>ईळेन्यं परथमं मातरिश्वा देवास्ततक्षुर्मनवे यजत्रम</td>\n",
       "      <td>START_ mātariśvan gods fashioned holy man firs...</td>\n",
       "    </tr>\n",
       "    <tr>\n",
       "      <th>25664</th>\n",
       "      <td>आ हि सथाथो दिविस्प्र्शम</td>\n",
       "      <td>START_ sacrifice reaches heaven _END</td>\n",
       "    </tr>\n",
       "    <tr>\n",
       "      <th>9357</th>\n",
       "      <td>राजमूलो हि धर्मश्च जयश्च जयतां वर। तस्मात्सर्व...</td>\n",
       "      <td>START_ ravana best among victorious indeed kin...</td>\n",
       "    </tr>\n",
       "    <tr>\n",
       "      <th>6416</th>\n",
       "      <td>यासां नाददते शुल्कं ज्ञातयो न स विक्रयः ।अर्हण...</td>\n",
       "      <td>START_ relatives appropriate use gratuity give...</td>\n",
       "    </tr>\n",
       "  </tbody>\n",
       "</table>\n",
       "</div>"
      ],
      "text/plain": [
       "                                                     NEP  \\\n",
       "17172  अहं पुत्रसहाया त्वामुपासे गतचेतसम्। सिंहेन निह...   \n",
       "32438  ईळेन्यं परथमं मातरिश्वा देवास्ततक्षुर्मनवे यजत्रम   \n",
       "25664                            आ हि सथाथो दिविस्प्र्शम   \n",
       "9357   राजमूलो हि धर्मश्च जयश्च जयतां वर। तस्मात्सर्व...   \n",
       "6416   यासां नाददते शुल्कं ज्ञातयो न स विक्रयः ।अर्हण...   \n",
       "\n",
       "                                                     ENG  \n",
       "17172  START_ like cow followed calf would attend upo...  \n",
       "32438  START_ mātariśvan gods fashioned holy man firs...  \n",
       "25664               START_ sacrifice reaches heaven _END  \n",
       "9357   START_ ravana best among victorious indeed kin...  \n",
       "6416   START_ relatives appropriate use gratuity give...  "
      ]
     },
     "execution_count": 25,
     "metadata": {},
     "output_type": "execute_result"
    }
   ],
   "source": [
    "df = shuffle(df)\n",
    "df.head(5)"
   ]
  },
  {
   "cell_type": "code",
   "execution_count": 26,
   "id": "87cce933",
   "metadata": {
    "execution": {
     "iopub.execute_input": "2024-02-29T19:27:55.856825Z",
     "iopub.status.busy": "2024-02-29T19:27:55.856230Z",
     "iopub.status.idle": "2024-02-29T19:27:55.874780Z",
     "shell.execute_reply": "2024-02-29T19:27:55.873852Z"
    },
    "papermill": {
     "duration": 0.041162,
     "end_time": "2024-02-29T19:27:55.876848",
     "exception": false,
     "start_time": "2024-02-29T19:27:55.835686",
     "status": "completed"
    },
    "tags": []
   },
   "outputs": [
    {
     "data": {
      "text/plain": [
       "((30936,), (3438,))"
      ]
     },
     "execution_count": 26,
     "metadata": {},
     "output_type": "execute_result"
    }
   ],
   "source": [
    "# Train - Test Split\n",
    "X, y = df.NEP, df.ENG\n",
    "X_train, X_test, y_train, y_test = train_test_split(X, y, test_size = 0.1)\n",
    "X_train.shape, X_test.shape"
   ]
  },
  {
   "cell_type": "code",
   "execution_count": 27,
   "id": "2b1b2acb",
   "metadata": {
    "execution": {
     "iopub.execute_input": "2024-02-29T19:27:55.915663Z",
     "iopub.status.busy": "2024-02-29T19:27:55.915373Z",
     "iopub.status.idle": "2024-02-29T19:27:55.922439Z",
     "shell.execute_reply": "2024-02-29T19:27:55.921597Z"
    },
    "papermill": {
     "duration": 0.028351,
     "end_time": "2024-02-29T19:27:55.924370",
     "exception": false,
     "start_time": "2024-02-29T19:27:55.896019",
     "status": "completed"
    },
    "tags": []
   },
   "outputs": [
    {
     "data": {
      "text/plain": [
       "13307    ततो निविष्टां ध्वजिनीं गङ्गामन्वाश्रितां नदीम्...\n",
       "31156    आ यस्तस्थौ भुवनान्यमर्त्यो विश्वानि सोमः परि त...\n",
       "12339    दीर्घबाहुर्नरव्याघ्रो जटिलत्वमधारयत्। तौ तदा च...\n",
       "24225    अग्ने तोकस्य नस्तने तनूनामप्रयुछन दीद्यद बोधि ...\n",
       "12116    सभार्यं सम्प्रसुप्तं तं भ्रातरं वीक्ष्य लक्ष्म...\n",
       "                               ...                        \n",
       "23737    उत वा यः सहस्य परविद्वान मर्तो मर्तं मर्चयति द...\n",
       "26332    तद अस्तु मित्रावरुणा तद अग्ने शं योर अस्मभ्यम ...\n",
       "5772     किञ्च ये प्रत्येष्यन्ति तैरीदृग् आश्चर्य्यं कर...\n",
       "4452     तदानीं व्यवस्थापकानाम् एका यीशुमवदत् हे उपदेशक...\n",
       "26721             पुरू चिद अस्मयुस तिर आङगूषो मर्त्येष्व आ\n",
       "Name: NEP, Length: 30936, dtype: object"
      ]
     },
     "execution_count": 27,
     "metadata": {},
     "output_type": "execute_result"
    }
   ],
   "source": [
    "X_train"
   ]
  },
  {
   "cell_type": "code",
   "execution_count": 28,
   "id": "10579b01",
   "metadata": {
    "execution": {
     "iopub.execute_input": "2024-02-29T19:27:55.964535Z",
     "iopub.status.busy": "2024-02-29T19:27:55.964268Z",
     "iopub.status.idle": "2024-02-29T19:27:55.974570Z",
     "shell.execute_reply": "2024-02-29T19:27:55.973671Z"
    },
    "papermill": {
     "duration": 0.032756,
     "end_time": "2024-02-29T19:27:55.976473",
     "exception": false,
     "start_time": "2024-02-29T19:27:55.943717",
     "status": "completed"
    },
    "tags": []
   },
   "outputs": [],
   "source": [
    "def generate_batch(X = X_train, y = y_train, batch_size = 32):\n",
    "    ''' Generate a batch of data '''    \n",
    "    while True:\n",
    "        for j in range(0, len(X), batch_size):\n",
    "            encoder_input_data = np.zeros((batch_size, max_length_src),dtype='float32')\n",
    "            decoder_input_data = np.zeros((batch_size, max_length_tar),dtype='float32')\n",
    "            decoder_target_data = np.zeros((batch_size, max_length_tar, num_decoder_tokens),dtype='float32')\n",
    "            for i, (input_text, target_text) in enumerate(zip(X[j:j+batch_size], y[j:j+batch_size])):\n",
    "#                 input_text = input_text.decode('utf-8')\n",
    "#                 target_text = target_text.decode('utf-8')\n",
    "#                 print(input_text)\n",
    "                for t, word in enumerate(input_text.split()):\n",
    "                    if word in input_token_index:\n",
    "                        encoder_input_data[i, t] = input_token_index[word]  # encoder input seq\n",
    "                    else:\n",
    "                        # Handle out-of-vocabulary words here\n",
    "                        # For example, you could assign a special index for unknown words\n",
    "                        encoder_input_data[i, t] = input_token_index['<UNK>']\n",
    "                for t, word in enumerate(target_text.split()):\n",
    "                    if t<len(target_text.split())-1:\n",
    "                        if word in target_token_index:\n",
    "                            decoder_input_data[i, t] = target_token_index[word]  # decoder input seq\n",
    "                        else:\n",
    "                            decoder_input_data[i, t] = target_token_index['<UNK>']\n",
    "\n",
    "                    if t>0:\n",
    "                        # decoder target sequence (one hot encoded)\n",
    "                        # does not include the START_ token\n",
    "                        # Offset by one timestep\n",
    "                        if word in target_token_index:\n",
    "                            decoder_target_data[i, t - 1, target_token_index[word]] = 1.\n",
    "                        else:\n",
    "                            # Handle out-of-vocabulary words here\n",
    "                            pass  # You may choose to ignore or handle them differently            \n",
    "            yield((encoder_input_data, decoder_input_data), decoder_target_data)"
   ]
  },
  {
   "cell_type": "code",
   "execution_count": 29,
   "id": "568d5daf",
   "metadata": {
    "execution": {
     "iopub.execute_input": "2024-02-29T19:27:56.017485Z",
     "iopub.status.busy": "2024-02-29T19:27:56.016651Z",
     "iopub.status.idle": "2024-02-29T19:27:56.020614Z",
     "shell.execute_reply": "2024-02-29T19:27:56.019846Z"
    },
    "papermill": {
     "duration": 0.026554,
     "end_time": "2024-02-29T19:27:56.022599",
     "exception": false,
     "start_time": "2024-02-29T19:27:55.996045",
     "status": "completed"
    },
    "tags": []
   },
   "outputs": [],
   "source": [
    "latent_dim = 50"
   ]
  },
  {
   "cell_type": "code",
   "execution_count": 30,
   "id": "9e6ea84a",
   "metadata": {
    "execution": {
     "iopub.execute_input": "2024-02-29T19:27:56.063312Z",
     "iopub.status.busy": "2024-02-29T19:27:56.062520Z",
     "iopub.status.idle": "2024-02-29T19:27:58.034281Z",
     "shell.execute_reply": "2024-02-29T19:27:58.033188Z"
    },
    "papermill": {
     "duration": 1.994675,
     "end_time": "2024-02-29T19:27:58.036691",
     "exception": false,
     "start_time": "2024-02-29T19:27:56.042016",
     "status": "completed"
    },
    "tags": []
   },
   "outputs": [],
   "source": [
    "# Encoder\n",
    "encoder_inputs = Input(shape=(None,))\n",
    "enc_emb =  Embedding(num_encoder_tokens, latent_dim, mask_zero = True)(encoder_inputs)\n",
    "encoder_lstm = LSTM(latent_dim, return_state=True)\n",
    "encoder_outputs, state_h, state_c = encoder_lstm(enc_emb)\n",
    "# We discard `encoder_outputs` and only keep the states.\n",
    "encoder_states = [state_h, state_c]"
   ]
  },
  {
   "cell_type": "code",
   "execution_count": 31,
   "id": "93b1376f",
   "metadata": {
    "execution": {
     "iopub.execute_input": "2024-02-29T19:27:58.079412Z",
     "iopub.status.busy": "2024-02-29T19:27:58.079079Z",
     "iopub.status.idle": "2024-02-29T19:27:58.121617Z",
     "shell.execute_reply": "2024-02-29T19:27:58.120844Z"
    },
    "papermill": {
     "duration": 0.066137,
     "end_time": "2024-02-29T19:27:58.123541",
     "exception": false,
     "start_time": "2024-02-29T19:27:58.057404",
     "status": "completed"
    },
    "tags": []
   },
   "outputs": [],
   "source": [
    "# Set up the decoder, using `encoder_states` as initial state.\n",
    "decoder_inputs = Input(shape=(None,))\n",
    "dec_emb_layer = Embedding(num_decoder_tokens, latent_dim, mask_zero = True)\n",
    "dec_emb = dec_emb_layer(decoder_inputs)\n",
    "# We set up our decoder to return full output sequences,\n",
    "# and to return internal states as well. We don't use the\n",
    "# return states in the training model, but we will use them in inference.\n",
    "decoder_lstm = LSTM(latent_dim, return_sequences=True, return_state=True)\n",
    "decoder_outputs, _, _ = decoder_lstm(dec_emb,\n",
    "                                     initial_state=encoder_states)\n",
    "decoder_dense = Dense(num_decoder_tokens, activation='softmax')\n",
    "decoder_outputs = decoder_dense(decoder_outputs)\n",
    "\n",
    "# Define the model that will turn\n",
    "# `encoder_input_data` & `decoder_input_data` into `decoder_target_data`\n",
    "model = Model((encoder_inputs, decoder_inputs), decoder_outputs)"
   ]
  },
  {
   "cell_type": "code",
   "execution_count": 32,
   "id": "a6902a7f",
   "metadata": {
    "execution": {
     "iopub.execute_input": "2024-02-29T19:27:58.164947Z",
     "iopub.status.busy": "2024-02-29T19:27:58.164202Z",
     "iopub.status.idle": "2024-02-29T19:27:58.176648Z",
     "shell.execute_reply": "2024-02-29T19:27:58.175947Z"
    },
    "papermill": {
     "duration": 0.035211,
     "end_time": "2024-02-29T19:27:58.178595",
     "exception": false,
     "start_time": "2024-02-29T19:27:58.143384",
     "status": "completed"
    },
    "tags": []
   },
   "outputs": [],
   "source": [
    "model.compile(optimizer='rmsprop', loss='categorical_crossentropy', metrics=['acc'])"
   ]
  },
  {
   "cell_type": "code",
   "execution_count": 33,
   "id": "5107081a",
   "metadata": {
    "execution": {
     "iopub.execute_input": "2024-02-29T19:27:58.217770Z",
     "iopub.status.busy": "2024-02-29T19:27:58.217250Z",
     "iopub.status.idle": "2024-02-29T19:27:58.221330Z",
     "shell.execute_reply": "2024-02-29T19:27:58.220475Z"
    },
    "papermill": {
     "duration": 0.025675,
     "end_time": "2024-02-29T19:27:58.223146",
     "exception": false,
     "start_time": "2024-02-29T19:27:58.197471",
     "status": "completed"
    },
    "tags": []
   },
   "outputs": [],
   "source": [
    "train_samples = len(X_train)\n",
    "val_samples = len(X_test)\n",
    "batch_size = 32\n",
    "epochs = 45"
   ]
  },
  {
   "cell_type": "code",
   "execution_count": 34,
   "id": "efcfe386",
   "metadata": {
    "execution": {
     "iopub.execute_input": "2024-02-29T19:27:58.261984Z",
     "iopub.status.busy": "2024-02-29T19:27:58.261735Z",
     "iopub.status.idle": "2024-03-01T01:27:40.561342Z",
     "shell.execute_reply": "2024-03-01T01:27:40.560492Z"
    },
    "papermill": {
     "duration": 21585.891203,
     "end_time": "2024-03-01T01:27:44.133279",
     "exception": false,
     "start_time": "2024-02-29T19:27:58.242076",
     "status": "completed"
    },
    "tags": []
   },
   "outputs": [
    {
     "name": "stdout",
     "output_type": "stream",
     "text": [
      "Epoch 1/45\n",
      "\u001b[1m966/966\u001b[0m \u001b[32m━━━━━━━━━━━━━━━━━━━━\u001b[0m\u001b[37m\u001b[0m \u001b[1m490s\u001b[0m 501ms/step - acc: 0.0084 - loss: 8.5791 - val_acc: 0.0085 - val_loss: 7.8615\n",
      "Epoch 2/45\n",
      "\u001b[1m966/966\u001b[0m \u001b[32m━━━━━━━━━━━━━━━━━━━━\u001b[0m\u001b[37m\u001b[0m \u001b[1m480s\u001b[0m 497ms/step - acc: 0.0085 - loss: 7.8660 - val_acc: 0.0085 - val_loss: 7.8548\n",
      "Epoch 3/45\n",
      "\u001b[1m966/966\u001b[0m \u001b[32m━━━━━━━━━━━━━━━━━━━━\u001b[0m\u001b[37m\u001b[0m \u001b[1m478s\u001b[0m 495ms/step - acc: 0.0085 - loss: 7.8621 - val_acc: 0.0085 - val_loss: 7.8542\n",
      "Epoch 4/45\n",
      "\u001b[1m966/966\u001b[0m \u001b[32m━━━━━━━━━━━━━━━━━━━━\u001b[0m\u001b[37m\u001b[0m \u001b[1m478s\u001b[0m 495ms/step - acc: 0.0085 - loss: 7.8612 - val_acc: 0.0085 - val_loss: 7.8536\n",
      "Epoch 5/45\n",
      "\u001b[1m966/966\u001b[0m \u001b[32m━━━━━━━━━━━━━━━━━━━━\u001b[0m\u001b[37m\u001b[0m \u001b[1m478s\u001b[0m 495ms/step - acc: 0.0085 - loss: 7.8535 - val_acc: 0.0085 - val_loss: 7.8249\n",
      "Epoch 6/45\n",
      "\u001b[1m966/966\u001b[0m \u001b[32m━━━━━━━━━━━━━━━━━━━━\u001b[0m\u001b[37m\u001b[0m \u001b[1m483s\u001b[0m 500ms/step - acc: 0.0085 - loss: 7.8293 - val_acc: 0.0085 - val_loss: 7.8064\n",
      "Epoch 7/45\n",
      "\u001b[1m966/966\u001b[0m \u001b[32m━━━━━━━━━━━━━━━━━━━━\u001b[0m\u001b[37m\u001b[0m \u001b[1m483s\u001b[0m 500ms/step - acc: 0.0085 - loss: 7.8106 - val_acc: 0.0085 - val_loss: 7.7928\n",
      "Epoch 8/45\n",
      "\u001b[1m966/966\u001b[0m \u001b[32m━━━━━━━━━━━━━━━━━━━━\u001b[0m\u001b[37m\u001b[0m \u001b[1m480s\u001b[0m 496ms/step - acc: 0.0085 - loss: 7.7976 - val_acc: 0.0087 - val_loss: 7.7801\n",
      "Epoch 9/45\n",
      "\u001b[1m966/966\u001b[0m \u001b[32m━━━━━━━━━━━━━━━━━━━━\u001b[0m\u001b[37m\u001b[0m \u001b[1m478s\u001b[0m 495ms/step - acc: 0.0087 - loss: 7.7880 - val_acc: 0.0088 - val_loss: 7.7755\n",
      "Epoch 10/45\n",
      "\u001b[1m966/966\u001b[0m \u001b[32m━━━━━━━━━━━━━━━━━━━━\u001b[0m\u001b[37m\u001b[0m \u001b[1m479s\u001b[0m 496ms/step - acc: 0.0088 - loss: 7.7806 - val_acc: 0.0089 - val_loss: 7.7710\n",
      "Epoch 11/45\n",
      "\u001b[1m966/966\u001b[0m \u001b[32m━━━━━━━━━━━━━━━━━━━━\u001b[0m\u001b[37m\u001b[0m \u001b[1m478s\u001b[0m 495ms/step - acc: 0.0089 - loss: 7.7754 - val_acc: 0.0089 - val_loss: 7.7689\n",
      "Epoch 12/45\n",
      "\u001b[1m966/966\u001b[0m \u001b[32m━━━━━━━━━━━━━━━━━━━━\u001b[0m\u001b[37m\u001b[0m \u001b[1m478s\u001b[0m 495ms/step - acc: 0.0089 - loss: 7.7699 - val_acc: 0.0089 - val_loss: 7.7656\n",
      "Epoch 13/45\n",
      "\u001b[1m966/966\u001b[0m \u001b[32m━━━━━━━━━━━━━━━━━━━━\u001b[0m\u001b[37m\u001b[0m \u001b[1m478s\u001b[0m 495ms/step - acc: 0.0089 - loss: 7.7669 - val_acc: 0.0089 - val_loss: 7.7640\n",
      "Epoch 14/45\n",
      "\u001b[1m966/966\u001b[0m \u001b[32m━━━━━━━━━━━━━━━━━━━━\u001b[0m\u001b[37m\u001b[0m \u001b[1m479s\u001b[0m 496ms/step - acc: 0.0089 - loss: 7.7642 - val_acc: 0.0088 - val_loss: 7.7626\n",
      "Epoch 15/45\n",
      "\u001b[1m966/966\u001b[0m \u001b[32m━━━━━━━━━━━━━━━━━━━━\u001b[0m\u001b[37m\u001b[0m \u001b[1m480s\u001b[0m 497ms/step - acc: 0.0090 - loss: 7.7596 - val_acc: 0.0088 - val_loss: 7.7602\n",
      "Epoch 16/45\n",
      "\u001b[1m966/966\u001b[0m \u001b[32m━━━━━━━━━━━━━━━━━━━━\u001b[0m\u001b[37m\u001b[0m \u001b[1m476s\u001b[0m 493ms/step - acc: 0.0090 - loss: 7.7532 - val_acc: 0.0089 - val_loss: 7.7612\n",
      "Epoch 17/45\n",
      "\u001b[1m966/966\u001b[0m \u001b[32m━━━━━━━━━━━━━━━━━━━━\u001b[0m\u001b[37m\u001b[0m \u001b[1m478s\u001b[0m 495ms/step - acc: 0.0090 - loss: 7.7481 - val_acc: 0.0089 - val_loss: 7.7626\n",
      "Epoch 18/45\n",
      "\u001b[1m966/966\u001b[0m \u001b[32m━━━━━━━━━━━━━━━━━━━━\u001b[0m\u001b[37m\u001b[0m \u001b[1m478s\u001b[0m 495ms/step - acc: 0.0090 - loss: 7.7398 - val_acc: 0.0089 - val_loss: 7.7592\n",
      "Epoch 19/45\n",
      "\u001b[1m966/966\u001b[0m \u001b[32m━━━━━━━━━━━━━━━━━━━━\u001b[0m\u001b[37m\u001b[0m \u001b[1m473s\u001b[0m 490ms/step - acc: 0.0090 - loss: 7.7295 - val_acc: 0.0089 - val_loss: 7.7704\n",
      "Epoch 20/45\n",
      "\u001b[1m966/966\u001b[0m \u001b[32m━━━━━━━━━━━━━━━━━━━━\u001b[0m\u001b[37m\u001b[0m \u001b[1m474s\u001b[0m 490ms/step - acc: 0.0090 - loss: 7.7237 - val_acc: 0.0089 - val_loss: 7.7719\n",
      "Epoch 21/45\n",
      "\u001b[1m966/966\u001b[0m \u001b[32m━━━━━━━━━━━━━━━━━━━━\u001b[0m\u001b[37m\u001b[0m \u001b[1m478s\u001b[0m 494ms/step - acc: 0.0091 - loss: 7.7172 - val_acc: 0.0089 - val_loss: 7.7739\n",
      "Epoch 22/45\n",
      "\u001b[1m966/966\u001b[0m \u001b[32m━━━━━━━━━━━━━━━━━━━━\u001b[0m\u001b[37m\u001b[0m \u001b[1m477s\u001b[0m 494ms/step - acc: 0.0091 - loss: 7.7095 - val_acc: 0.0089 - val_loss: 7.7739\n",
      "Epoch 23/45\n",
      "\u001b[1m966/966\u001b[0m \u001b[32m━━━━━━━━━━━━━━━━━━━━\u001b[0m\u001b[37m\u001b[0m \u001b[1m477s\u001b[0m 494ms/step - acc: 0.0091 - loss: 7.7035 - val_acc: 0.0089 - val_loss: 7.7767\n",
      "Epoch 24/45\n",
      "\u001b[1m966/966\u001b[0m \u001b[32m━━━━━━━━━━━━━━━━━━━━\u001b[0m\u001b[37m\u001b[0m \u001b[1m482s\u001b[0m 499ms/step - acc: 0.0091 - loss: 7.6992 - val_acc: 0.0089 - val_loss: 7.7849\n",
      "Epoch 25/45\n",
      "\u001b[1m966/966\u001b[0m \u001b[32m━━━━━━━━━━━━━━━━━━━━\u001b[0m\u001b[37m\u001b[0m \u001b[1m481s\u001b[0m 498ms/step - acc: 0.0091 - loss: 7.6947 - val_acc: 0.0089 - val_loss: 7.7846\n",
      "Epoch 26/45\n",
      "\u001b[1m966/966\u001b[0m \u001b[32m━━━━━━━━━━━━━━━━━━━━\u001b[0m\u001b[37m\u001b[0m \u001b[1m479s\u001b[0m 495ms/step - acc: 0.0091 - loss: 7.6934 - val_acc: 0.0089 - val_loss: 7.7941\n",
      "Epoch 27/45\n",
      "\u001b[1m966/966\u001b[0m \u001b[32m━━━━━━━━━━━━━━━━━━━━\u001b[0m\u001b[37m\u001b[0m \u001b[1m476s\u001b[0m 493ms/step - acc: 0.0091 - loss: 7.6898 - val_acc: 0.0088 - val_loss: 7.7897\n",
      "Epoch 28/45\n",
      "\u001b[1m966/966\u001b[0m \u001b[32m━━━━━━━━━━━━━━━━━━━━\u001b[0m\u001b[37m\u001b[0m \u001b[1m478s\u001b[0m 495ms/step - acc: 0.0091 - loss: 7.6872 - val_acc: 0.0089 - val_loss: 7.7987\n",
      "Epoch 29/45\n",
      "\u001b[1m966/966\u001b[0m \u001b[32m━━━━━━━━━━━━━━━━━━━━\u001b[0m\u001b[37m\u001b[0m \u001b[1m475s\u001b[0m 492ms/step - acc: 0.0091 - loss: 7.6840 - val_acc: 0.0088 - val_loss: 7.7976\n",
      "Epoch 30/45\n",
      "\u001b[1m966/966\u001b[0m \u001b[32m━━━━━━━━━━━━━━━━━━━━\u001b[0m\u001b[37m\u001b[0m \u001b[1m477s\u001b[0m 494ms/step - acc: 0.0091 - loss: 7.6812 - val_acc: 0.0087 - val_loss: 7.7973\n",
      "Epoch 31/45\n",
      "\u001b[1m966/966\u001b[0m \u001b[32m━━━━━━━━━━━━━━━━━━━━\u001b[0m\u001b[37m\u001b[0m \u001b[1m482s\u001b[0m 499ms/step - acc: 0.0092 - loss: 7.6777 - val_acc: 0.0088 - val_loss: 7.8088\n",
      "Epoch 32/45\n",
      "\u001b[1m966/966\u001b[0m \u001b[32m━━━━━━━━━━━━━━━━━━━━\u001b[0m\u001b[37m\u001b[0m \u001b[1m483s\u001b[0m 500ms/step - acc: 0.0092 - loss: 7.6763 - val_acc: 0.0088 - val_loss: 7.8101\n",
      "Epoch 33/45\n",
      "\u001b[1m966/966\u001b[0m \u001b[32m━━━━━━━━━━━━━━━━━━━━\u001b[0m\u001b[37m\u001b[0m \u001b[1m480s\u001b[0m 496ms/step - acc: 0.0092 - loss: 7.6753 - val_acc: 0.0088 - val_loss: 7.8137\n",
      "Epoch 34/45\n",
      "\u001b[1m966/966\u001b[0m \u001b[32m━━━━━━━━━━━━━━━━━━━━\u001b[0m\u001b[37m\u001b[0m \u001b[1m483s\u001b[0m 500ms/step - acc: 0.0092 - loss: 7.6717 - val_acc: 0.0088 - val_loss: 7.8113\n",
      "Epoch 35/45\n",
      "\u001b[1m966/966\u001b[0m \u001b[32m━━━━━━━━━━━━━━━━━━━━\u001b[0m\u001b[37m\u001b[0m \u001b[1m482s\u001b[0m 499ms/step - acc: 0.0092 - loss: 7.6690 - val_acc: 0.0087 - val_loss: 7.8131\n",
      "Epoch 36/45\n",
      "\u001b[1m966/966\u001b[0m \u001b[32m━━━━━━━━━━━━━━━━━━━━\u001b[0m\u001b[37m\u001b[0m \u001b[1m479s\u001b[0m 496ms/step - acc: 0.0092 - loss: 7.6658 - val_acc: 0.0089 - val_loss: 7.8141\n",
      "Epoch 37/45\n",
      "\u001b[1m966/966\u001b[0m \u001b[32m━━━━━━━━━━━━━━━━━━━━\u001b[0m\u001b[37m\u001b[0m \u001b[1m482s\u001b[0m 499ms/step - acc: 0.0093 - loss: 7.6609 - val_acc: 0.0089 - val_loss: 7.8196\n",
      "Epoch 38/45\n",
      "\u001b[1m966/966\u001b[0m \u001b[32m━━━━━━━━━━━━━━━━━━━━\u001b[0m\u001b[37m\u001b[0m \u001b[1m480s\u001b[0m 497ms/step - acc: 0.0094 - loss: 7.6429 - val_acc: 0.0090 - val_loss: 7.7829\n",
      "Epoch 39/45\n",
      "\u001b[1m966/966\u001b[0m \u001b[32m━━━━━━━━━━━━━━━━━━━━\u001b[0m\u001b[37m\u001b[0m \u001b[1m478s\u001b[0m 494ms/step - acc: 0.0095 - loss: 7.5941 - val_acc: 0.0091 - val_loss: 7.7619\n",
      "Epoch 40/45\n",
      "\u001b[1m966/966\u001b[0m \u001b[32m━━━━━━━━━━━━━━━━━━━━\u001b[0m\u001b[37m\u001b[0m \u001b[1m477s\u001b[0m 494ms/step - acc: 0.0096 - loss: 7.5622 - val_acc: 0.0091 - val_loss: 7.7539\n",
      "Epoch 41/45\n",
      "\u001b[1m966/966\u001b[0m \u001b[32m━━━━━━━━━━━━━━━━━━━━\u001b[0m\u001b[37m\u001b[0m \u001b[1m482s\u001b[0m 499ms/step - acc: 0.0096 - loss: 7.5423 - val_acc: 0.0091 - val_loss: 7.7448\n",
      "Epoch 42/45\n",
      "\u001b[1m966/966\u001b[0m \u001b[32m━━━━━━━━━━━━━━━━━━━━\u001b[0m\u001b[37m\u001b[0m \u001b[1m480s\u001b[0m 497ms/step - acc: 0.0097 - loss: 7.5289 - val_acc: 0.0088 - val_loss: 7.7128\n",
      "Epoch 43/45\n",
      "\u001b[1m966/966\u001b[0m \u001b[32m━━━━━━━━━━━━━━━━━━━━\u001b[0m\u001b[37m\u001b[0m \u001b[1m481s\u001b[0m 498ms/step - acc: 0.0097 - loss: 7.5179 - val_acc: 0.0090 - val_loss: 7.7198\n",
      "Epoch 44/45\n",
      "\u001b[1m966/966\u001b[0m \u001b[32m━━━━━━━━━━━━━━━━━━━━\u001b[0m\u001b[37m\u001b[0m \u001b[1m487s\u001b[0m 504ms/step - acc: 0.0097 - loss: 7.5055 - val_acc: 0.0089 - val_loss: 7.7262\n",
      "Epoch 45/45\n",
      "\u001b[1m966/966\u001b[0m \u001b[32m━━━━━━━━━━━━━━━━━━━━\u001b[0m\u001b[37m\u001b[0m \u001b[1m488s\u001b[0m 505ms/step - acc: 0.0097 - loss: 7.4967 - val_acc: 0.0090 - val_loss: 7.7345\n"
     ]
    },
    {
     "data": {
      "text/plain": [
       "<keras.src.callbacks.history.History at 0x7b1a905b6410>"
      ]
     },
     "execution_count": 34,
     "metadata": {},
     "output_type": "execute_result"
    }
   ],
   "source": [
    "model.fit(generate_batch(X_train, y_train, batch_size = batch_size),\n",
    "                    steps_per_epoch = train_samples//batch_size,\n",
    "                    epochs=epochs,\n",
    "                    validation_data = generate_batch(X_test, y_test, batch_size = batch_size),\n",
    "                    validation_steps = val_samples//batch_size)"
   ]
  },
  {
   "cell_type": "code",
   "execution_count": 35,
   "id": "c999c476",
   "metadata": {
    "execution": {
     "iopub.execute_input": "2024-03-01T01:27:51.529849Z",
     "iopub.status.busy": "2024-03-01T01:27:51.529440Z",
     "iopub.status.idle": "2024-03-01T01:27:51.546413Z",
     "shell.execute_reply": "2024-03-01T01:27:51.545512Z"
    },
    "papermill": {
     "duration": 3.734898,
     "end_time": "2024-03-01T01:27:51.548549",
     "exception": false,
     "start_time": "2024-03-01T01:27:47.813651",
     "status": "completed"
    },
    "tags": []
   },
   "outputs": [],
   "source": [
    "# Encode the input sequence to get the \"thought vectors\"\n",
    "encoder_model = Model(encoder_inputs, encoder_states)\n",
    "\n",
    "# Decoder setup\n",
    "# Below tensors will hold the states of the previous time step\n",
    "decoder_state_input_h = Input(shape=(latent_dim,))\n",
    "decoder_state_input_c = Input(shape=(latent_dim,))\n",
    "decoder_states_inputs = [decoder_state_input_h, decoder_state_input_c]\n",
    "\n",
    "dec_emb2= dec_emb_layer(decoder_inputs) # Get the embeddings of the decoder sequence\n",
    "\n",
    "# To predict the next word in the sequence, set the initial states to the states from the previous time step\n",
    "decoder_outputs2, state_h2, state_c2 = decoder_lstm(dec_emb2, initial_state=decoder_states_inputs)\n",
    "decoder_states2 = [state_h2, state_c2]\n",
    "decoder_outputs2 = decoder_dense(decoder_outputs2) # A dense softmax layer to generate prob dist. over the target vocabulary\n",
    "\n",
    "# Final decoder model\n",
    "decoder_model = Model(\n",
    "    [decoder_inputs] + decoder_states_inputs,\n",
    "    [decoder_outputs2] + decoder_states2)"
   ]
  },
  {
   "cell_type": "code",
   "execution_count": 36,
   "id": "2b04053a",
   "metadata": {
    "execution": {
     "iopub.execute_input": "2024-03-01T01:27:58.918837Z",
     "iopub.status.busy": "2024-03-01T01:27:58.918468Z",
     "iopub.status.idle": "2024-03-01T01:27:58.926375Z",
     "shell.execute_reply": "2024-03-01T01:27:58.925491Z"
    },
    "papermill": {
     "duration": 3.698378,
     "end_time": "2024-03-01T01:27:58.928414",
     "exception": false,
     "start_time": "2024-03-01T01:27:55.230036",
     "status": "completed"
    },
    "tags": []
   },
   "outputs": [],
   "source": [
    "def decode_sequence(input_seq):\n",
    "    # Encode the input as state vectors.\n",
    "    states_value = encoder_model.predict(input_seq)\n",
    "    # Generate empty target sequence of length 1.\n",
    "    target_seq = np.zeros((1,1))\n",
    "    # Populate the first character of target sequence with the start character.\n",
    "    target_seq[0, 0] = target_token_index['START_']\n",
    "\n",
    "    # Sampling loop for a batch of sequences\n",
    "    # (to simplify, here we assume a batch of size 1).\n",
    "    stop_condition = False\n",
    "    decoded_sentence = ''\n",
    "    while not stop_condition:\n",
    "        output_tokens, h, c = decoder_model.predict([target_seq] + states_value)\n",
    "\n",
    "        # Sample a token\n",
    "        sampled_token_index = np.argmax(output_tokens[0, -1, :])\n",
    "        sampled_char = reverse_target_char_index[sampled_token_index]\n",
    "        decoded_sentence += ' '+sampled_char\n",
    "\n",
    "        # Exit condition: either hit max length\n",
    "        # or find stop character.\n",
    "        if (sampled_char == '_END' or\n",
    "           len(decoded_sentence) > 50):\n",
    "            stop_condition = True\n",
    "\n",
    "        # Update the target sequence (of length 1).\n",
    "        target_seq = np.zeros((1,1))\n",
    "        target_seq[0, 0] = sampled_token_index\n",
    "\n",
    "        # Update states\n",
    "        states_value = [h, c]\n",
    "\n",
    "    return decoded_sentence"
   ]
  },
  {
   "cell_type": "code",
   "execution_count": 37,
   "id": "82f5b947",
   "metadata": {
    "execution": {
     "iopub.execute_input": "2024-03-01T01:28:06.388594Z",
     "iopub.status.busy": "2024-03-01T01:28:06.387711Z",
     "iopub.status.idle": "2024-03-01T01:28:06.392144Z",
     "shell.execute_reply": "2024-03-01T01:28:06.391292Z"
    },
    "papermill": {
     "duration": 3.752417,
     "end_time": "2024-03-01T01:28:06.394024",
     "exception": false,
     "start_time": "2024-03-01T01:28:02.641607",
     "status": "completed"
    },
    "tags": []
   },
   "outputs": [],
   "source": [
    "train_gen = generate_batch(X_train, y_train, batch_size = 1)\n",
    "k=-1"
   ]
  },
  {
   "cell_type": "code",
   "execution_count": 38,
   "id": "60178052",
   "metadata": {
    "execution": {
     "iopub.execute_input": "2024-03-01T01:28:13.588182Z",
     "iopub.status.busy": "2024-03-01T01:28:13.587809Z",
     "iopub.status.idle": "2024-03-01T01:28:14.355371Z",
     "shell.execute_reply": "2024-03-01T01:28:14.354493Z"
    },
    "papermill": {
     "duration": 4.320718,
     "end_time": "2024-03-01T01:28:14.357320",
     "exception": false,
     "start_time": "2024-03-01T01:28:10.036602",
     "status": "completed"
    },
    "tags": []
   },
   "outputs": [
    {
     "name": "stdout",
     "output_type": "stream",
     "text": [
      "\u001b[1m1/1\u001b[0m \u001b[32m━━━━━━━━━━━━━━━━━━━━\u001b[0m\u001b[37m\u001b[0m \u001b[1m0s\u001b[0m 254ms/step\n",
      "\u001b[1m1/1\u001b[0m \u001b[32m━━━━━━━━━━━━━━━━━━━━\u001b[0m\u001b[37m\u001b[0m \u001b[1m0s\u001b[0m 135ms/step\n",
      "\u001b[1m1/1\u001b[0m \u001b[32m━━━━━━━━━━━━━━━━━━━━\u001b[0m\u001b[37m\u001b[0m \u001b[1m0s\u001b[0m 19ms/step\n",
      "\u001b[1m1/1\u001b[0m \u001b[32m━━━━━━━━━━━━━━━━━━━━\u001b[0m\u001b[37m\u001b[0m \u001b[1m0s\u001b[0m 18ms/step\n",
      "\u001b[1m1/1\u001b[0m \u001b[32m━━━━━━━━━━━━━━━━━━━━\u001b[0m\u001b[37m\u001b[0m \u001b[1m0s\u001b[0m 19ms/step\n",
      "\u001b[1m1/1\u001b[0m \u001b[32m━━━━━━━━━━━━━━━━━━━━\u001b[0m\u001b[37m\u001b[0m \u001b[1m0s\u001b[0m 19ms/step\n",
      "Input Nepali sentence: ततो निविष्टां ध्वजिनीं गङ्गामन्वाश्रितां नदीम्। निषादराजो दृष्ट्वैव ज्ञातीन्सन्त्वरितोऽऽब्रवीत्।।\n",
      "Actual English Translation:  guha king nishadas observed bannered army encamped along bank river ganga hurried said kinsmen \n",
      "Predicted English Translation:  rama rama rama rama \n"
     ]
    }
   ],
   "source": [
    "k+=1\n",
    "(input_seq, actual_output), _ = next(train_gen)\n",
    "decoded_sentence = decode_sequence(input_seq)\n",
    "print('Input Nepali sentence:', X_train[k:k+1].values[0])\n",
    "print('Actual English Translation:', y_train[k:k+1].values[0][6:-4])\n",
    "print('Predicted English Translation:', decoded_sentence[:-4])"
   ]
  },
  {
   "cell_type": "code",
   "execution_count": 39,
   "id": "0e2e4cbe",
   "metadata": {
    "execution": {
     "iopub.execute_input": "2024-03-01T01:28:21.665839Z",
     "iopub.status.busy": "2024-03-01T01:28:21.665472Z",
     "iopub.status.idle": "2024-03-01T01:28:22.092373Z",
     "shell.execute_reply": "2024-03-01T01:28:22.091474Z"
    },
    "papermill": {
     "duration": 3.957872,
     "end_time": "2024-03-01T01:28:22.094260",
     "exception": false,
     "start_time": "2024-03-01T01:28:18.136388",
     "status": "completed"
    },
    "tags": []
   },
   "outputs": [
    {
     "name": "stdout",
     "output_type": "stream",
     "text": [
      "\u001b[1m1/1\u001b[0m \u001b[32m━━━━━━━━━━━━━━━━━━━━\u001b[0m\u001b[37m\u001b[0m \u001b[1m0s\u001b[0m 38ms/step\n",
      "\u001b[1m1/1\u001b[0m \u001b[32m━━━━━━━━━━━━━━━━━━━━\u001b[0m\u001b[37m\u001b[0m \u001b[1m0s\u001b[0m 18ms/step\n",
      "\u001b[1m1/1\u001b[0m \u001b[32m━━━━━━━━━━━━━━━━━━━━\u001b[0m\u001b[37m\u001b[0m \u001b[1m0s\u001b[0m 19ms/step\n",
      "\u001b[1m1/1\u001b[0m \u001b[32m━━━━━━━━━━━━━━━━━━━━\u001b[0m\u001b[37m\u001b[0m \u001b[1m0s\u001b[0m 21ms/step\n",
      "\u001b[1m1/1\u001b[0m \u001b[32m━━━━━━━━━━━━━━━━━━━━\u001b[0m\u001b[37m\u001b[0m \u001b[1m0s\u001b[0m 19ms/step\n",
      "\u001b[1m1/1\u001b[0m \u001b[32m━━━━━━━━━━━━━━━━━━━━\u001b[0m\u001b[37m\u001b[0m \u001b[1m0s\u001b[0m 25ms/step\n",
      "Input Nepali sentence: आ यस्तस्थौ भुवनान्यमर्त्यो विश्वानि सोमः परि तान्यर्षति\n",
      "Actual English Translation:  hath come anear creatures life immortal soma flows onward \n",
      "Predicted English Translation:  may may may us \n"
     ]
    }
   ],
   "source": [
    "k+=1\n",
    "(input_seq, actual_output), _ = next(train_gen)\n",
    "decoded_sentence = decode_sequence(input_seq)\n",
    "print('Input Nepali sentence:', X_train[k:k+1].values[0])\n",
    "print('Actual English Translation:', y_train[k:k+1].values[0][6:-4])\n",
    "print('Predicted English Translation:', decoded_sentence[:-4])"
   ]
  },
  {
   "cell_type": "code",
   "execution_count": 40,
   "id": "b6c0d4bd",
   "metadata": {
    "execution": {
     "iopub.execute_input": "2024-03-01T01:28:29.489410Z",
     "iopub.status.busy": "2024-03-01T01:28:29.488693Z",
     "iopub.status.idle": "2024-03-01T01:28:30.186793Z",
     "shell.execute_reply": "2024-03-01T01:28:30.185777Z"
    },
    "papermill": {
     "duration": 4.449442,
     "end_time": "2024-03-01T01:28:30.188896",
     "exception": false,
     "start_time": "2024-03-01T01:28:25.739454",
     "status": "completed"
    },
    "tags": []
   },
   "outputs": [
    {
     "name": "stdout",
     "output_type": "stream",
     "text": [
      "\u001b[1m1/1\u001b[0m \u001b[32m━━━━━━━━━━━━━━━━━━━━\u001b[0m\u001b[37m\u001b[0m \u001b[1m0s\u001b[0m 53ms/step\n",
      "\u001b[1m1/1\u001b[0m \u001b[32m━━━━━━━━━━━━━━━━━━━━\u001b[0m\u001b[37m\u001b[0m \u001b[1m0s\u001b[0m 19ms/step\n",
      "\u001b[1m1/1\u001b[0m \u001b[32m━━━━━━━━━━━━━━━━━━━━\u001b[0m\u001b[37m\u001b[0m \u001b[1m0s\u001b[0m 18ms/step\n",
      "\u001b[1m1/1\u001b[0m \u001b[32m━━━━━━━━━━━━━━━━━━━━\u001b[0m\u001b[37m\u001b[0m \u001b[1m0s\u001b[0m 18ms/step\n",
      "\u001b[1m1/1\u001b[0m \u001b[32m━━━━━━━━━━━━━━━━━━━━\u001b[0m\u001b[37m\u001b[0m \u001b[1m0s\u001b[0m 19ms/step\n",
      "\u001b[1m1/1\u001b[0m \u001b[32m━━━━━━━━━━━━━━━━━━━━\u001b[0m\u001b[37m\u001b[0m \u001b[1m0s\u001b[0m 20ms/step\n",
      "\u001b[1m1/1\u001b[0m \u001b[32m━━━━━━━━━━━━━━━━━━━━\u001b[0m\u001b[37m\u001b[0m \u001b[1m0s\u001b[0m 19ms/step\n",
      "\u001b[1m1/1\u001b[0m \u001b[32m━━━━━━━━━━━━━━━━━━━━\u001b[0m\u001b[37m\u001b[0m \u001b[1m0s\u001b[0m 19ms/step\n",
      "\u001b[1m1/1\u001b[0m \u001b[32m━━━━━━━━━━━━━━━━━━━━\u001b[0m\u001b[37m\u001b[0m \u001b[1m0s\u001b[0m 20ms/step\n",
      "\u001b[1m1/1\u001b[0m \u001b[32m━━━━━━━━━━━━━━━━━━━━\u001b[0m\u001b[37m\u001b[0m \u001b[1m0s\u001b[0m 20ms/step\n",
      "Input Nepali sentence: दीर्घबाहुर्नरव्याघ्रो जटिलत्वमधारयत्। तौ तदा चीरवसनौ जटामण्डलधारिणौ। आशोभेतामृषिसमौ भ्रातरौ रामलक्ष्मणौ।।\n",
      "Actual English Translation:  longarmed rama best men put locks matted hair two brothers rama lakshmana stood dressed bark wearing crowns matted hair resembled two resplendent ascetics \n",
      "Predicted English Translation:  rama rama rama rama rama rama rama rama \n"
     ]
    }
   ],
   "source": [
    "k+=1\n",
    "(input_seq, actual_output), _ = next(train_gen)\n",
    "decoded_sentence = decode_sequence(input_seq)\n",
    "print('Input Nepali sentence:', X_train[k:k+1].values[0])\n",
    "print('Actual English Translation:', y_train[k:k+1].values[0][6:-4])\n",
    "print('Predicted English Translation:', decoded_sentence[:-4])"
   ]
  },
  {
   "cell_type": "code",
   "execution_count": 41,
   "id": "ef786291",
   "metadata": {
    "execution": {
     "iopub.execute_input": "2024-03-01T01:28:37.750787Z",
     "iopub.status.busy": "2024-03-01T01:28:37.750415Z",
     "iopub.status.idle": "2024-03-01T01:28:38.172881Z",
     "shell.execute_reply": "2024-03-01T01:28:38.172020Z"
    },
    "papermill": {
     "duration": 4.1926,
     "end_time": "2024-03-01T01:28:38.174786",
     "exception": false,
     "start_time": "2024-03-01T01:28:33.982186",
     "status": "completed"
    },
    "tags": []
   },
   "outputs": [
    {
     "name": "stdout",
     "output_type": "stream",
     "text": [
      "\u001b[1m1/1\u001b[0m \u001b[32m━━━━━━━━━━━━━━━━━━━━\u001b[0m\u001b[37m\u001b[0m \u001b[1m0s\u001b[0m 45ms/step\n",
      "\u001b[1m1/1\u001b[0m \u001b[32m━━━━━━━━━━━━━━━━━━━━\u001b[0m\u001b[37m\u001b[0m \u001b[1m0s\u001b[0m 19ms/step\n",
      "\u001b[1m1/1\u001b[0m \u001b[32m━━━━━━━━━━━━━━━━━━━━\u001b[0m\u001b[37m\u001b[0m \u001b[1m0s\u001b[0m 19ms/step\n",
      "\u001b[1m1/1\u001b[0m \u001b[32m━━━━━━━━━━━━━━━━━━━━\u001b[0m\u001b[37m\u001b[0m \u001b[1m0s\u001b[0m 19ms/step\n",
      "\u001b[1m1/1\u001b[0m \u001b[32m━━━━━━━━━━━━━━━━━━━━\u001b[0m\u001b[37m\u001b[0m \u001b[1m0s\u001b[0m 18ms/step\n",
      "\u001b[1m1/1\u001b[0m \u001b[32m━━━━━━━━━━━━━━━━━━━━\u001b[0m\u001b[37m\u001b[0m \u001b[1m0s\u001b[0m 18ms/step\n",
      "Input Nepali sentence: अग्ने तोकस्य नस्तने तनूनामप्रयुछन दीद्यद बोधि गोपाः\n",
      "Actual English Translation:  refulgent everheedful keeper agni us seed offspring \n",
      "Predicted English Translation:  may thou us us \n"
     ]
    }
   ],
   "source": [
    "k+=1\n",
    "(input_seq, actual_output), _ = next(train_gen)\n",
    "decoded_sentence = decode_sequence(input_seq)\n",
    "print('Input Nepali sentence:', X_train[k:k+1].values[0])\n",
    "print('Actual English Translation:', y_train[k:k+1].values[0][6:-4])\n",
    "print('Predicted English Translation:', decoded_sentence[:-4])"
   ]
  },
  {
   "cell_type": "code",
   "execution_count": 42,
   "id": "8ff9efd0",
   "metadata": {
    "execution": {
     "iopub.execute_input": "2024-03-01T01:28:45.589813Z",
     "iopub.status.busy": "2024-03-01T01:28:45.588958Z",
     "iopub.status.idle": "2024-03-01T01:28:46.068256Z",
     "shell.execute_reply": "2024-03-01T01:28:46.067384Z"
    },
    "papermill": {
     "duration": 4.173677,
     "end_time": "2024-03-01T01:28:46.070142",
     "exception": false,
     "start_time": "2024-03-01T01:28:41.896465",
     "status": "completed"
    },
    "tags": []
   },
   "outputs": [
    {
     "name": "stdout",
     "output_type": "stream",
     "text": [
      "\u001b[1m1/1\u001b[0m \u001b[32m━━━━━━━━━━━━━━━━━━━━\u001b[0m\u001b[37m\u001b[0m \u001b[1m0s\u001b[0m 39ms/step\n",
      "\u001b[1m1/1\u001b[0m \u001b[32m━━━━━━━━━━━━━━━━━━━━\u001b[0m\u001b[37m\u001b[0m \u001b[1m0s\u001b[0m 18ms/step\n",
      "\u001b[1m1/1\u001b[0m \u001b[32m━━━━━━━━━━━━━━━━━━━━\u001b[0m\u001b[37m\u001b[0m \u001b[1m0s\u001b[0m 18ms/step\n",
      "\u001b[1m1/1\u001b[0m \u001b[32m━━━━━━━━━━━━━━━━━━━━\u001b[0m\u001b[37m\u001b[0m \u001b[1m0s\u001b[0m 18ms/step\n",
      "\u001b[1m1/1\u001b[0m \u001b[32m━━━━━━━━━━━━━━━━━━━━\u001b[0m\u001b[37m\u001b[0m \u001b[1m0s\u001b[0m 20ms/step\n",
      "\u001b[1m1/1\u001b[0m \u001b[32m━━━━━━━━━━━━━━━━━━━━\u001b[0m\u001b[37m\u001b[0m \u001b[1m0s\u001b[0m 19ms/step\n",
      "\u001b[1m1/1\u001b[0m \u001b[32m━━━━━━━━━━━━━━━━━━━━\u001b[0m\u001b[37m\u001b[0m \u001b[1m0s\u001b[0m 19ms/step\n",
      "Input Nepali sentence: सभार्यं सम्प्रसुप्तं तं भ्रातरं वीक्ष्य लक्ष्मणः। कथयामास सूताय रामस्य विविधान् गुणान्।।\n",
      "Actual English Translation:  seen brother along wife fallen asleep lakshmana narrated many virtues rama sumantra \n",
      "Predicted English Translation:  rama rama rama rama rama \n"
     ]
    }
   ],
   "source": [
    "k+=1\n",
    "(input_seq, actual_output), _ = next(train_gen)\n",
    "decoded_sentence = decode_sequence(input_seq)\n",
    "print('Input Nepali sentence:', X_train[k:k+1].values[0])\n",
    "print('Actual English Translation:', y_train[k:k+1].values[0][6:-4])\n",
    "print('Predicted English Translation:', decoded_sentence[:-4])"
   ]
  },
  {
   "cell_type": "code",
   "execution_count": 43,
   "id": "a0d61d24",
   "metadata": {
    "execution": {
     "iopub.execute_input": "2024-03-01T01:28:53.457681Z",
     "iopub.status.busy": "2024-03-01T01:28:53.457294Z",
     "iopub.status.idle": "2024-03-01T01:28:53.934537Z",
     "shell.execute_reply": "2024-03-01T01:28:53.933635Z"
    },
    "papermill": {
     "duration": 4.177905,
     "end_time": "2024-03-01T01:28:53.936489",
     "exception": false,
     "start_time": "2024-03-01T01:28:49.758584",
     "status": "completed"
    },
    "tags": []
   },
   "outputs": [
    {
     "name": "stdout",
     "output_type": "stream",
     "text": [
      "\u001b[1m1/1\u001b[0m \u001b[32m━━━━━━━━━━━━━━━━━━━━\u001b[0m\u001b[37m\u001b[0m \u001b[1m0s\u001b[0m 47ms/step\n",
      "\u001b[1m1/1\u001b[0m \u001b[32m━━━━━━━━━━━━━━━━━━━━\u001b[0m\u001b[37m\u001b[0m \u001b[1m0s\u001b[0m 22ms/step\n",
      "\u001b[1m1/1\u001b[0m \u001b[32m━━━━━━━━━━━━━━━━━━━━\u001b[0m\u001b[37m\u001b[0m \u001b[1m0s\u001b[0m 19ms/step\n",
      "\u001b[1m1/1\u001b[0m \u001b[32m━━━━━━━━━━━━━━━━━━━━\u001b[0m\u001b[37m\u001b[0m \u001b[1m0s\u001b[0m 19ms/step\n",
      "\u001b[1m1/1\u001b[0m \u001b[32m━━━━━━━━━━━━━━━━━━━━\u001b[0m\u001b[37m\u001b[0m \u001b[1m0s\u001b[0m 18ms/step\n",
      "\u001b[1m1/1\u001b[0m \u001b[32m━━━━━━━━━━━━━━━━━━━━\u001b[0m\u001b[37m\u001b[0m \u001b[1m0s\u001b[0m 18ms/step\n",
      "\u001b[1m1/1\u001b[0m \u001b[32m━━━━━━━━━━━━━━━━━━━━\u001b[0m\u001b[37m\u001b[0m \u001b[1m0s\u001b[0m 18ms/step\n",
      "Input Nepali sentence: ततः पश्चान्महातेजा नाराचान्भास्करोपमान्। जिघांसू राक्षसङ्कृद्धस्त्रयोदश समाददे।।\n",
      "Actual English Translation:  enraged effulgent rama took thirteen darts radiant like sun wish kill demon \n",
      "Predicted English Translation:  rama rama rama rama shall \n"
     ]
    }
   ],
   "source": [
    "k+=1\n",
    "(input_seq, actual_output), _ = next(train_gen)\n",
    "decoded_sentence = decode_sequence(input_seq)\n",
    "print('Input Nepali sentence:', X_train[k:k+1].values[0])\n",
    "print('Actual English Translation:', y_train[k:k+1].values[0][6:-4])\n",
    "print('Predicted English Translation:', decoded_sentence[:-4])"
   ]
  },
  {
   "cell_type": "code",
   "execution_count": 44,
   "id": "57d83744",
   "metadata": {
    "execution": {
     "iopub.execute_input": "2024-03-01T01:29:01.142724Z",
     "iopub.status.busy": "2024-03-01T01:29:01.141871Z",
     "iopub.status.idle": "2024-03-01T01:29:01.484700Z",
     "shell.execute_reply": "2024-03-01T01:29:01.483660Z"
    },
    "papermill": {
     "duration": 3.885011,
     "end_time": "2024-03-01T01:29:01.486839",
     "exception": false,
     "start_time": "2024-03-01T01:28:57.601828",
     "status": "completed"
    },
    "tags": []
   },
   "outputs": [
    {
     "name": "stdout",
     "output_type": "stream",
     "text": [
      "\u001b[1m1/1\u001b[0m \u001b[32m━━━━━━━━━━━━━━━━━━━━\u001b[0m\u001b[37m\u001b[0m \u001b[1m0s\u001b[0m 38ms/step\n",
      "\u001b[1m1/1\u001b[0m \u001b[32m━━━━━━━━━━━━━━━━━━━━\u001b[0m\u001b[37m\u001b[0m \u001b[1m0s\u001b[0m 18ms/step\n",
      "\u001b[1m1/1\u001b[0m \u001b[32m━━━━━━━━━━━━━━━━━━━━\u001b[0m\u001b[37m\u001b[0m \u001b[1m0s\u001b[0m 19ms/step\n",
      "\u001b[1m1/1\u001b[0m \u001b[32m━━━━━━━━━━━━━━━━━━━━\u001b[0m\u001b[37m\u001b[0m \u001b[1m0s\u001b[0m 19ms/step\n",
      "\u001b[1m1/1\u001b[0m \u001b[32m━━━━━━━━━━━━━━━━━━━━\u001b[0m\u001b[37m\u001b[0m \u001b[1m0s\u001b[0m 19ms/step\n",
      "Input Nepali sentence: तत्रापश्यत्स मेघाभं न्यग्रोधमृषिभिर्वृतम्। समन्ताद्यस्य ताश्शाखाश्शतयोजनमायताः।।\n",
      "Actual English Translation:  saw banyan tree branches spread sides measuring hundred yojanas looking like cloud providing shelter sages \n",
      "Predicted English Translation:  rama rama rama \n"
     ]
    }
   ],
   "source": [
    "k+=1\n",
    "(input_seq, actual_output), _ = next(train_gen)\n",
    "decoded_sentence = decode_sequence(input_seq)\n",
    "print('Input Nepali sentence:', X_train[k:k+1].values[0])\n",
    "print('Actual English Translation:', y_train[k:k+1].values[0][6:-4])\n",
    "print('Predicted English Translation:', decoded_sentence[:-4])"
   ]
  },
  {
   "cell_type": "code",
   "execution_count": 45,
   "id": "7084be9d",
   "metadata": {
    "execution": {
     "iopub.execute_input": "2024-03-01T01:29:09.042254Z",
     "iopub.status.busy": "2024-03-01T01:29:09.041573Z",
     "iopub.status.idle": "2024-03-01T01:29:09.379959Z",
     "shell.execute_reply": "2024-03-01T01:29:09.379050Z"
    },
    "papermill": {
     "duration": 4.040115,
     "end_time": "2024-03-01T01:29:09.382023",
     "exception": false,
     "start_time": "2024-03-01T01:29:05.341908",
     "status": "completed"
    },
    "tags": []
   },
   "outputs": [
    {
     "name": "stdout",
     "output_type": "stream",
     "text": [
      "\u001b[1m1/1\u001b[0m \u001b[32m━━━━━━━━━━━━━━━━━━━━\u001b[0m\u001b[37m\u001b[0m \u001b[1m0s\u001b[0m 38ms/step\n",
      "\u001b[1m1/1\u001b[0m \u001b[32m━━━━━━━━━━━━━━━━━━━━\u001b[0m\u001b[37m\u001b[0m \u001b[1m0s\u001b[0m 19ms/step\n",
      "\u001b[1m1/1\u001b[0m \u001b[32m━━━━━━━━━━━━━━━━━━━━\u001b[0m\u001b[37m\u001b[0m \u001b[1m0s\u001b[0m 18ms/step\n",
      "\u001b[1m1/1\u001b[0m \u001b[32m━━━━━━━━━━━━━━━━━━━━\u001b[0m\u001b[37m\u001b[0m \u001b[1m0s\u001b[0m 18ms/step\n",
      "\u001b[1m1/1\u001b[0m \u001b[32m━━━━━━━━━━━━━━━━━━━━\u001b[0m\u001b[37m\u001b[0m \u001b[1m0s\u001b[0m 18ms/step\n",
      "Input Nepali sentence: तां तु दृष्ट्वा महाबाहो दारितां च स्तनान्तरे। आशीविष इव क्रुद्धो निश्वसन्नभ्यभाषथाः।।\n",
      "Actual English Translation:  seeing blood flowing breasts became furious like hissing serpent said \n",
      "Predicted English Translation:  rama rama rama \n"
     ]
    }
   ],
   "source": [
    "k+=1\n",
    "(input_seq, actual_output), _ = next(train_gen)\n",
    "decoded_sentence = decode_sequence(input_seq)\n",
    "print('Input Nepali sentence:', X_train[k:k+1].values[0])\n",
    "print('Actual English Translation:', y_train[k:k+1].values[0][6:-4])\n",
    "print('Predicted English Translation:', decoded_sentence[:-4])"
   ]
  },
  {
   "cell_type": "code",
   "execution_count": 46,
   "id": "886a5868",
   "metadata": {
    "execution": {
     "iopub.execute_input": "2024-03-01T01:29:16.749933Z",
     "iopub.status.busy": "2024-03-01T01:29:16.749187Z",
     "iopub.status.idle": "2024-03-01T01:29:17.427339Z",
     "shell.execute_reply": "2024-03-01T01:29:17.426220Z"
    },
    "papermill": {
     "duration": 4.344189,
     "end_time": "2024-03-01T01:29:17.429310",
     "exception": false,
     "start_time": "2024-03-01T01:29:13.085121",
     "status": "completed"
    },
    "tags": []
   },
   "outputs": [
    {
     "name": "stdout",
     "output_type": "stream",
     "text": [
      "\u001b[1m1/1\u001b[0m \u001b[32m━━━━━━━━━━━━━━━━━━━━\u001b[0m\u001b[37m\u001b[0m \u001b[1m0s\u001b[0m 46ms/step\n",
      "\u001b[1m1/1\u001b[0m \u001b[32m━━━━━━━━━━━━━━━━━━━━\u001b[0m\u001b[37m\u001b[0m \u001b[1m0s\u001b[0m 18ms/step\n",
      "\u001b[1m1/1\u001b[0m \u001b[32m━━━━━━━━━━━━━━━━━━━━\u001b[0m\u001b[37m\u001b[0m \u001b[1m0s\u001b[0m 18ms/step\n",
      "\u001b[1m1/1\u001b[0m \u001b[32m━━━━━━━━━━━━━━━━━━━━\u001b[0m\u001b[37m\u001b[0m \u001b[1m0s\u001b[0m 19ms/step\n",
      "\u001b[1m1/1\u001b[0m \u001b[32m━━━━━━━━━━━━━━━━━━━━\u001b[0m\u001b[37m\u001b[0m \u001b[1m0s\u001b[0m 19ms/step\n",
      "\u001b[1m1/1\u001b[0m \u001b[32m━━━━━━━━━━━━━━━━━━━━\u001b[0m\u001b[37m\u001b[0m \u001b[1m0s\u001b[0m 19ms/step\n",
      "\u001b[1m1/1\u001b[0m \u001b[32m━━━━━━━━━━━━━━━━━━━━\u001b[0m\u001b[37m\u001b[0m \u001b[1m0s\u001b[0m 19ms/step\n",
      "\u001b[1m1/1\u001b[0m \u001b[32m━━━━━━━━━━━━━━━━━━━━\u001b[0m\u001b[37m\u001b[0m \u001b[1m0s\u001b[0m 19ms/step\n",
      "\u001b[1m1/1\u001b[0m \u001b[32m━━━━━━━━━━━━━━━━━━━━\u001b[0m\u001b[37m\u001b[0m \u001b[1m0s\u001b[0m 19ms/step\n",
      "\u001b[1m1/1\u001b[0m \u001b[32m━━━━━━━━━━━━━━━━━━━━\u001b[0m\u001b[37m\u001b[0m \u001b[1m0s\u001b[0m 19ms/step\n",
      "Input Nepali sentence: तदानीं राजा तान् प्रतिवदिष्यति युष्मानहं सत्यं वदामि ममैतेषां भ्रातृणां मध्ये कञ्चनैकं क्षुद्रतमं प्रति यद् अकुरुत तन्मां प्रत्यकुरुत।\n",
      "Actual English Translation:  king shall answer say unto verily say unto inasmuch ye done unto one least brethren ye done unto \n",
      "Predicted English Translation:  rama rama rama rama rama rama rama rama \n"
     ]
    }
   ],
   "source": [
    "k+=1\n",
    "(input_seq, actual_output), _ = next(train_gen)\n",
    "decoded_sentence = decode_sequence(input_seq)\n",
    "print('Input Nepali sentence:', X_train[k:k+1].values[0])\n",
    "print('Actual English Translation:', y_train[k:k+1].values[0][6:-4])\n",
    "print('Predicted English Translation:', decoded_sentence[:-4])"
   ]
  },
  {
   "cell_type": "code",
   "execution_count": 47,
   "id": "0eb872a4",
   "metadata": {
    "execution": {
     "iopub.execute_input": "2024-03-01T01:29:24.791440Z",
     "iopub.status.busy": "2024-03-01T01:29:24.790492Z",
     "iopub.status.idle": "2024-03-01T01:29:25.137327Z",
     "shell.execute_reply": "2024-03-01T01:29:25.136282Z"
    },
    "papermill": {
     "duration": 4.041561,
     "end_time": "2024-03-01T01:29:25.139379",
     "exception": false,
     "start_time": "2024-03-01T01:29:21.097818",
     "status": "completed"
    },
    "tags": []
   },
   "outputs": [
    {
     "name": "stdout",
     "output_type": "stream",
     "text": [
      "\u001b[1m1/1\u001b[0m \u001b[32m━━━━━━━━━━━━━━━━━━━━\u001b[0m\u001b[37m\u001b[0m \u001b[1m0s\u001b[0m 43ms/step\n",
      "\u001b[1m1/1\u001b[0m \u001b[32m━━━━━━━━━━━━━━━━━━━━\u001b[0m\u001b[37m\u001b[0m \u001b[1m0s\u001b[0m 19ms/step\n",
      "\u001b[1m1/1\u001b[0m \u001b[32m━━━━━━━━━━━━━━━━━━━━\u001b[0m\u001b[37m\u001b[0m \u001b[1m0s\u001b[0m 18ms/step\n",
      "\u001b[1m1/1\u001b[0m \u001b[32m━━━━━━━━━━━━━━━━━━━━\u001b[0m\u001b[37m\u001b[0m \u001b[1m0s\u001b[0m 18ms/step\n",
      "\u001b[1m1/1\u001b[0m \u001b[32m━━━━━━━━━━━━━━━━━━━━\u001b[0m\u001b[37m\u001b[0m \u001b[1m0s\u001b[0m 19ms/step\n",
      "Input Nepali sentence: इन्द्राग्नी शर्म यछतम\n",
      "Actual English Translation:  indra agni send us bliss \n",
      "Predicted English Translation:  may us us \n"
     ]
    }
   ],
   "source": [
    "k+=1\n",
    "(input_seq, actual_output), _ = next(train_gen)\n",
    "decoded_sentence = decode_sequence(input_seq)\n",
    "print('Input Nepali sentence:', X_train[k:k+1].values[0])\n",
    "print('Actual English Translation:', y_train[k:k+1].values[0][6:-4])\n",
    "print('Predicted English Translation:', decoded_sentence[:-4])"
   ]
  },
  {
   "cell_type": "code",
   "execution_count": 48,
   "id": "ffa0963b",
   "metadata": {
    "execution": {
     "iopub.execute_input": "2024-03-01T01:29:32.591247Z",
     "iopub.status.busy": "2024-03-01T01:29:32.590516Z",
     "iopub.status.idle": "2024-03-01T01:29:33.079124Z",
     "shell.execute_reply": "2024-03-01T01:29:33.078251Z"
    },
    "papermill": {
     "duration": 4.218867,
     "end_time": "2024-03-01T01:29:33.081029",
     "exception": false,
     "start_time": "2024-03-01T01:29:28.862162",
     "status": "completed"
    },
    "tags": []
   },
   "outputs": [
    {
     "name": "stdout",
     "output_type": "stream",
     "text": [
      "\u001b[1m1/1\u001b[0m \u001b[32m━━━━━━━━━━━━━━━━━━━━\u001b[0m\u001b[37m\u001b[0m \u001b[1m0s\u001b[0m 39ms/step\n",
      "\u001b[1m1/1\u001b[0m \u001b[32m━━━━━━━━━━━━━━━━━━━━\u001b[0m\u001b[37m\u001b[0m \u001b[1m0s\u001b[0m 21ms/step\n",
      "\u001b[1m1/1\u001b[0m \u001b[32m━━━━━━━━━━━━━━━━━━━━\u001b[0m\u001b[37m\u001b[0m \u001b[1m0s\u001b[0m 19ms/step\n",
      "\u001b[1m1/1\u001b[0m \u001b[32m━━━━━━━━━━━━━━━━━━━━\u001b[0m\u001b[37m\u001b[0m \u001b[1m0s\u001b[0m 19ms/step\n",
      "\u001b[1m1/1\u001b[0m \u001b[32m━━━━━━━━━━━━━━━━━━━━\u001b[0m\u001b[37m\u001b[0m \u001b[1m0s\u001b[0m 20ms/step\n",
      "\u001b[1m1/1\u001b[0m \u001b[32m━━━━━━━━━━━━━━━━━━━━\u001b[0m\u001b[37m\u001b[0m \u001b[1m0s\u001b[0m 20ms/step\n",
      "\u001b[1m1/1\u001b[0m \u001b[32m━━━━━━━━━━━━━━━━━━━━\u001b[0m\u001b[37m\u001b[0m \u001b[1m0s\u001b[0m 20ms/step\n",
      "Input Nepali sentence: किन्तु यीशुस्तां किमपि नोक्तवान् ततः शिष्या आगत्य तं निवेदयामासुः एषा योषिद् अस्माकं पश्चाद् उच्चैराहूयागच्छति एनां विसृजतु।\n",
      "Actual English Translation:  answered word disciples came besought saying send away crieth us \n",
      "Predicted English Translation:  rama rama rama rama rama \n"
     ]
    }
   ],
   "source": [
    "k+=1\n",
    "(input_seq, actual_output), _ = next(train_gen)\n",
    "decoded_sentence = decode_sequence(input_seq)\n",
    "print('Input Nepali sentence:', X_train[k:k+1].values[0])\n",
    "print('Actual English Translation:', y_train[k:k+1].values[0][6:-4])\n",
    "print('Predicted English Translation:', decoded_sentence[:-4])"
   ]
  },
  {
   "cell_type": "code",
   "execution_count": 49,
   "id": "9f2e8130",
   "metadata": {
    "execution": {
     "iopub.execute_input": "2024-03-01T01:29:40.510428Z",
     "iopub.status.busy": "2024-03-01T01:29:40.509556Z",
     "iopub.status.idle": "2024-03-01T01:29:40.513944Z",
     "shell.execute_reply": "2024-03-01T01:29:40.513040Z"
    },
    "papermill": {
     "duration": 3.604427,
     "end_time": "2024-03-01T01:29:40.515818",
     "exception": false,
     "start_time": "2024-03-01T01:29:36.911391",
     "status": "completed"
    },
    "tags": []
   },
   "outputs": [],
   "source": [
    "# VALIDATION SET"
   ]
  },
  {
   "cell_type": "code",
   "execution_count": 50,
   "id": "ff27c842",
   "metadata": {
    "execution": {
     "iopub.execute_input": "2024-03-01T01:29:47.862589Z",
     "iopub.status.busy": "2024-03-01T01:29:47.862134Z",
     "iopub.status.idle": "2024-03-01T01:29:47.867283Z",
     "shell.execute_reply": "2024-03-01T01:29:47.866225Z"
    },
    "papermill": {
     "duration": 3.67705,
     "end_time": "2024-03-01T01:29:47.869528",
     "exception": false,
     "start_time": "2024-03-01T01:29:44.192478",
     "status": "completed"
    },
    "tags": []
   },
   "outputs": [],
   "source": [
    "test_gen = generate_batch(X_test, y_test, batch_size = 1)\n",
    "k=-1"
   ]
  },
  {
   "cell_type": "code",
   "execution_count": 51,
   "id": "82c2c1d5",
   "metadata": {
    "execution": {
     "iopub.execute_input": "2024-03-01T01:29:55.291957Z",
     "iopub.status.busy": "2024-03-01T01:29:55.291183Z",
     "iopub.status.idle": "2024-03-01T01:29:55.919816Z",
     "shell.execute_reply": "2024-03-01T01:29:55.918788Z"
    },
    "papermill": {
     "duration": 4.336876,
     "end_time": "2024-03-01T01:29:55.921967",
     "exception": false,
     "start_time": "2024-03-01T01:29:51.585091",
     "status": "completed"
    },
    "tags": []
   },
   "outputs": [
    {
     "name": "stdout",
     "output_type": "stream",
     "text": [
      "\u001b[1m1/1\u001b[0m \u001b[32m━━━━━━━━━━━━━━━━━━━━\u001b[0m\u001b[37m\u001b[0m \u001b[1m0s\u001b[0m 50ms/step\n",
      "\u001b[1m1/1\u001b[0m \u001b[32m━━━━━━━━━━━━━━━━━━━━\u001b[0m\u001b[37m\u001b[0m \u001b[1m0s\u001b[0m 18ms/step\n",
      "\u001b[1m1/1\u001b[0m \u001b[32m━━━━━━━━━━━━━━━━━━━━\u001b[0m\u001b[37m\u001b[0m \u001b[1m0s\u001b[0m 20ms/step\n",
      "\u001b[1m1/1\u001b[0m \u001b[32m━━━━━━━━━━━━━━━━━━━━\u001b[0m\u001b[37m\u001b[0m \u001b[1m0s\u001b[0m 19ms/step\n",
      "\u001b[1m1/1\u001b[0m \u001b[32m━━━━━━━━━━━━━━━━━━━━\u001b[0m\u001b[37m\u001b[0m \u001b[1m0s\u001b[0m 18ms/step\n",
      "\u001b[1m1/1\u001b[0m \u001b[32m━━━━━━━━━━━━━━━━━━━━\u001b[0m\u001b[37m\u001b[0m \u001b[1m0s\u001b[0m 19ms/step\n",
      "\u001b[1m1/1\u001b[0m \u001b[32m━━━━━━━━━━━━━━━━━━━━\u001b[0m\u001b[37m\u001b[0m \u001b[1m0s\u001b[0m 21ms/step\n",
      "\u001b[1m1/1\u001b[0m \u001b[32m━━━━━━━━━━━━━━━━━━━━\u001b[0m\u001b[37m\u001b[0m \u001b[1m0s\u001b[0m 19ms/step\n",
      "\u001b[1m1/1\u001b[0m \u001b[32m━━━━━━━━━━━━━━━━━━━━\u001b[0m\u001b[37m\u001b[0m \u001b[1m0s\u001b[0m 20ms/step\n",
      "Input Nepali sentence: ततो निविष्टां ध्वजिनीं गङ्गामन्वाश्रितां नदीम्। निषादराजो दृष्ट्वैव ज्ञातीन्सन्त्वरितोऽऽब्रवीत्।।\n",
      "Actual English Translation:  guha king nishadas observed bannered army encamped along bank river ganga hurried said kinsmen \n",
      "Predicted English Translation:  may may thou us us us us \n"
     ]
    }
   ],
   "source": [
    "k+=1\n",
    "(input_seq, actual_output), _ = next(test_gen)\n",
    "decoded_sentence = decode_sequence(input_seq)\n",
    "print('Input Nepali sentence:', X_train[k:k+1].values[0])\n",
    "print('Actual English Translation:', y_train[k:k+1].values[0][6:-4])\n",
    "print('Predicted English Translation:', decoded_sentence[:-4])"
   ]
  },
  {
   "cell_type": "code",
   "execution_count": 52,
   "id": "aa44064c",
   "metadata": {
    "execution": {
     "iopub.execute_input": "2024-03-01T01:30:03.380097Z",
     "iopub.status.busy": "2024-03-01T01:30:03.379255Z",
     "iopub.status.idle": "2024-03-01T01:30:03.784342Z",
     "shell.execute_reply": "2024-03-01T01:30:03.783264Z"
    },
    "papermill": {
     "duration": 4.117405,
     "end_time": "2024-03-01T01:30:03.786492",
     "exception": false,
     "start_time": "2024-03-01T01:29:59.669087",
     "status": "completed"
    },
    "tags": []
   },
   "outputs": [
    {
     "name": "stdout",
     "output_type": "stream",
     "text": [
      "\u001b[1m1/1\u001b[0m \u001b[32m━━━━━━━━━━━━━━━━━━━━\u001b[0m\u001b[37m\u001b[0m \u001b[1m0s\u001b[0m 38ms/step\n",
      "\u001b[1m1/1\u001b[0m \u001b[32m━━━━━━━━━━━━━━━━━━━━\u001b[0m\u001b[37m\u001b[0m \u001b[1m0s\u001b[0m 19ms/step\n",
      "\u001b[1m1/1\u001b[0m \u001b[32m━━━━━━━━━━━━━━━━━━━━\u001b[0m\u001b[37m\u001b[0m \u001b[1m0s\u001b[0m 19ms/step\n",
      "\u001b[1m1/1\u001b[0m \u001b[32m━━━━━━━━━━━━━━━━━━━━\u001b[0m\u001b[37m\u001b[0m \u001b[1m0s\u001b[0m 19ms/step\n",
      "\u001b[1m1/1\u001b[0m \u001b[32m━━━━━━━━━━━━━━━━━━━━\u001b[0m\u001b[37m\u001b[0m \u001b[1m0s\u001b[0m 18ms/step\n",
      "\u001b[1m1/1\u001b[0m \u001b[32m━━━━━━━━━━━━━━━━━━━━\u001b[0m\u001b[37m\u001b[0m \u001b[1m0s\u001b[0m 18ms/step\n",
      "Input Nepali sentence: आ यस्तस्थौ भुवनान्यमर्त्यो विश्वानि सोमः परि तान्यर्षति\n",
      "Actual English Translation:  hath come anear creatures life immortal soma flows onward \n",
      "Predicted English Translation:  rama rama rama rama \n"
     ]
    }
   ],
   "source": [
    "k+=1\n",
    "(input_seq, actual_output), _ = next(test_gen)\n",
    "decoded_sentence = decode_sequence(input_seq)\n",
    "print('Input Nepali sentence:', X_train[k:k+1].values[0])\n",
    "print('Actual English Translation:', y_train[k:k+1].values[0][6:-4])\n",
    "print('Predicted English Translation:', decoded_sentence[:-4])"
   ]
  },
  {
   "cell_type": "code",
   "execution_count": 53,
   "id": "a4bb20c3",
   "metadata": {
    "execution": {
     "iopub.execute_input": "2024-03-01T01:30:11.319990Z",
     "iopub.status.busy": "2024-03-01T01:30:11.319625Z",
     "iopub.status.idle": "2024-03-01T01:30:11.736881Z",
     "shell.execute_reply": "2024-03-01T01:30:11.735835Z"
    },
    "papermill": {
     "duration": 4.145105,
     "end_time": "2024-03-01T01:30:11.738833",
     "exception": false,
     "start_time": "2024-03-01T01:30:07.593728",
     "status": "completed"
    },
    "tags": []
   },
   "outputs": [
    {
     "name": "stdout",
     "output_type": "stream",
     "text": [
      "\u001b[1m1/1\u001b[0m \u001b[32m━━━━━━━━━━━━━━━━━━━━\u001b[0m\u001b[37m\u001b[0m \u001b[1m0s\u001b[0m 39ms/step\n",
      "\u001b[1m1/1\u001b[0m \u001b[32m━━━━━━━━━━━━━━━━━━━━\u001b[0m\u001b[37m\u001b[0m \u001b[1m0s\u001b[0m 18ms/step\n",
      "\u001b[1m1/1\u001b[0m \u001b[32m━━━━━━━━━━━━━━━━━━━━\u001b[0m\u001b[37m\u001b[0m \u001b[1m0s\u001b[0m 19ms/step\n",
      "\u001b[1m1/1\u001b[0m \u001b[32m━━━━━━━━━━━━━━━━━━━━\u001b[0m\u001b[37m\u001b[0m \u001b[1m0s\u001b[0m 19ms/step\n",
      "\u001b[1m1/1\u001b[0m \u001b[32m━━━━━━━━━━━━━━━━━━━━\u001b[0m\u001b[37m\u001b[0m \u001b[1m0s\u001b[0m 20ms/step\n",
      "\u001b[1m1/1\u001b[0m \u001b[32m━━━━━━━━━━━━━━━━━━━━\u001b[0m\u001b[37m\u001b[0m \u001b[1m0s\u001b[0m 19ms/step\n",
      "Input Nepali sentence: दीर्घबाहुर्नरव्याघ्रो जटिलत्वमधारयत्। तौ तदा चीरवसनौ जटामण्डलधारिणौ। आशोभेतामृषिसमौ भ्रातरौ रामलक्ष्मणौ।।\n",
      "Actual English Translation:  longarmed rama best men put locks matted hair two brothers rama lakshmana stood dressed bark wearing crowns matted hair resembled two resplendent ascetics \n",
      "Predicted English Translation:  rama rama rama rama \n"
     ]
    }
   ],
   "source": [
    "k+=1\n",
    "(input_seq, actual_output), _ = next(test_gen)\n",
    "decoded_sentence = decode_sequence(input_seq)\n",
    "print('Input Nepali sentence:', X_train[k:k+1].values[0])\n",
    "print('Actual English Translation:', y_train[k:k+1].values[0][6:-4])\n",
    "print('Predicted English Translation:', decoded_sentence[:-4])"
   ]
  },
  {
   "cell_type": "code",
   "execution_count": 54,
   "id": "444b0c7a",
   "metadata": {
    "execution": {
     "iopub.execute_input": "2024-03-01T01:30:19.135915Z",
     "iopub.status.busy": "2024-03-01T01:30:19.135567Z",
     "iopub.status.idle": "2024-03-01T01:30:19.487463Z",
     "shell.execute_reply": "2024-03-01T01:30:19.486403Z"
    },
    "papermill": {
     "duration": 4.15865,
     "end_time": "2024-03-01T01:30:19.489627",
     "exception": false,
     "start_time": "2024-03-01T01:30:15.330977",
     "status": "completed"
    },
    "tags": []
   },
   "outputs": [
    {
     "name": "stdout",
     "output_type": "stream",
     "text": [
      "\u001b[1m1/1\u001b[0m \u001b[32m━━━━━━━━━━━━━━━━━━━━\u001b[0m\u001b[37m\u001b[0m \u001b[1m0s\u001b[0m 45ms/step\n",
      "\u001b[1m1/1\u001b[0m \u001b[32m━━━━━━━━━━━━━━━━━━━━\u001b[0m\u001b[37m\u001b[0m \u001b[1m0s\u001b[0m 19ms/step\n",
      "\u001b[1m1/1\u001b[0m \u001b[32m━━━━━━━━━━━━━━━━━━━━\u001b[0m\u001b[37m\u001b[0m \u001b[1m0s\u001b[0m 19ms/step\n",
      "\u001b[1m1/1\u001b[0m \u001b[32m━━━━━━━━━━━━━━━━━━━━\u001b[0m\u001b[37m\u001b[0m \u001b[1m0s\u001b[0m 19ms/step\n",
      "\u001b[1m1/1\u001b[0m \u001b[32m━━━━━━━━━━━━━━━━━━━━\u001b[0m\u001b[37m\u001b[0m \u001b[1m0s\u001b[0m 18ms/step\n",
      "Input Nepali sentence: अग्ने तोकस्य नस्तने तनूनामप्रयुछन दीद्यद बोधि गोपाः\n",
      "Actual English Translation:  refulgent everheedful keeper agni us seed offspring \n",
      "Predicted English Translation:  may us us \n"
     ]
    }
   ],
   "source": [
    "k+=1\n",
    "(input_seq, actual_output), _ = next(test_gen)\n",
    "decoded_sentence = decode_sequence(input_seq)\n",
    "print('Input Nepali sentence:', X_train[k:k+1].values[0])\n",
    "print('Actual English Translation:', y_train[k:k+1].values[0][6:-4])\n",
    "print('Predicted English Translation:', decoded_sentence[:-4])"
   ]
  },
  {
   "cell_type": "code",
   "execution_count": 55,
   "id": "3d3d0521",
   "metadata": {
    "execution": {
     "iopub.execute_input": "2024-03-01T01:30:26.751239Z",
     "iopub.status.busy": "2024-03-01T01:30:26.750879Z",
     "iopub.status.idle": "2024-03-01T01:30:27.241016Z",
     "shell.execute_reply": "2024-03-01T01:30:27.239925Z"
    },
    "papermill": {
     "duration": 4.169476,
     "end_time": "2024-03-01T01:30:27.242915",
     "exception": false,
     "start_time": "2024-03-01T01:30:23.073439",
     "status": "completed"
    },
    "tags": []
   },
   "outputs": [
    {
     "name": "stdout",
     "output_type": "stream",
     "text": [
      "\u001b[1m1/1\u001b[0m \u001b[32m━━━━━━━━━━━━━━━━━━━━\u001b[0m\u001b[37m\u001b[0m \u001b[1m0s\u001b[0m 40ms/step\n",
      "\u001b[1m1/1\u001b[0m \u001b[32m━━━━━━━━━━━━━━━━━━━━\u001b[0m\u001b[37m\u001b[0m \u001b[1m0s\u001b[0m 18ms/step\n",
      "\u001b[1m1/1\u001b[0m \u001b[32m━━━━━━━━━━━━━━━━━━━━\u001b[0m\u001b[37m\u001b[0m \u001b[1m0s\u001b[0m 19ms/step\n",
      "\u001b[1m1/1\u001b[0m \u001b[32m━━━━━━━━━━━━━━━━━━━━\u001b[0m\u001b[37m\u001b[0m \u001b[1m0s\u001b[0m 18ms/step\n",
      "\u001b[1m1/1\u001b[0m \u001b[32m━━━━━━━━━━━━━━━━━━━━\u001b[0m\u001b[37m\u001b[0m \u001b[1m0s\u001b[0m 19ms/step\n",
      "\u001b[1m1/1\u001b[0m \u001b[32m━━━━━━━━━━━━━━━━━━━━\u001b[0m\u001b[37m\u001b[0m \u001b[1m0s\u001b[0m 20ms/step\n",
      "\u001b[1m1/1\u001b[0m \u001b[32m━━━━━━━━━━━━━━━━━━━━\u001b[0m\u001b[37m\u001b[0m \u001b[1m0s\u001b[0m 20ms/step\n",
      "Input Nepali sentence: सभार्यं सम्प्रसुप्तं तं भ्रातरं वीक्ष्य लक्ष्मणः। कथयामास सूताय रामस्य विविधान् गुणान्।।\n",
      "Actual English Translation:  seen brother along wife fallen asleep lakshmana narrated many virtues rama sumantra \n",
      "Predicted English Translation:  rama rama rama rama shall \n"
     ]
    }
   ],
   "source": [
    "k+=1\n",
    "(input_seq, actual_output), _ = next(test_gen)\n",
    "decoded_sentence = decode_sequence(input_seq)\n",
    "print('Input Nepali sentence:', X_train[k:k+1].values[0])\n",
    "print('Actual English Translation:', y_train[k:k+1].values[0][6:-4])\n",
    "print('Predicted English Translation:', decoded_sentence[:-4])"
   ]
  },
  {
   "cell_type": "code",
   "execution_count": 56,
   "id": "986bdd3a",
   "metadata": {
    "execution": {
     "iopub.execute_input": "2024-03-01T01:30:34.623203Z",
     "iopub.status.busy": "2024-03-01T01:30:34.622156Z",
     "iopub.status.idle": "2024-03-01T01:30:35.073260Z",
     "shell.execute_reply": "2024-03-01T01:30:35.072130Z"
    },
    "papermill": {
     "duration": 4.157253,
     "end_time": "2024-03-01T01:30:35.075636",
     "exception": false,
     "start_time": "2024-03-01T01:30:30.918383",
     "status": "completed"
    },
    "tags": []
   },
   "outputs": [
    {
     "name": "stdout",
     "output_type": "stream",
     "text": [
      "\u001b[1m1/1\u001b[0m \u001b[32m━━━━━━━━━━━━━━━━━━━━\u001b[0m\u001b[37m\u001b[0m \u001b[1m0s\u001b[0m 40ms/step\n",
      "\u001b[1m1/1\u001b[0m \u001b[32m━━━━━━━━━━━━━━━━━━━━\u001b[0m\u001b[37m\u001b[0m \u001b[1m0s\u001b[0m 19ms/step\n",
      "\u001b[1m1/1\u001b[0m \u001b[32m━━━━━━━━━━━━━━━━━━━━\u001b[0m\u001b[37m\u001b[0m \u001b[1m0s\u001b[0m 19ms/step\n",
      "\u001b[1m1/1\u001b[0m \u001b[32m━━━━━━━━━━━━━━━━━━━━\u001b[0m\u001b[37m\u001b[0m \u001b[1m0s\u001b[0m 19ms/step\n",
      "\u001b[1m1/1\u001b[0m \u001b[32m━━━━━━━━━━━━━━━━━━━━\u001b[0m\u001b[37m\u001b[0m \u001b[1m0s\u001b[0m 20ms/step\n",
      "\u001b[1m1/1\u001b[0m \u001b[32m━━━━━━━━━━━━━━━━━━━━\u001b[0m\u001b[37m\u001b[0m \u001b[1m0s\u001b[0m 19ms/step\n",
      "Input Nepali sentence: ततः पश्चान्महातेजा नाराचान्भास्करोपमान्। जिघांसू राक्षसङ्कृद्धस्त्रयोदश समाददे।।\n",
      "Actual English Translation:  enraged effulgent rama took thirteen darts radiant like sun wish kill demon \n",
      "Predicted English Translation:  rama rama rama rama \n"
     ]
    }
   ],
   "source": [
    "k+=1\n",
    "(input_seq, actual_output), _ = next(test_gen)\n",
    "decoded_sentence = decode_sequence(input_seq)\n",
    "print('Input Nepali sentence:', X_train[k:k+1].values[0])\n",
    "print('Actual English Translation:', y_train[k:k+1].values[0][6:-4])\n",
    "print('Predicted English Translation:', decoded_sentence[:-4])"
   ]
  },
  {
   "cell_type": "code",
   "execution_count": 57,
   "id": "93594956",
   "metadata": {
    "execution": {
     "iopub.execute_input": "2024-03-01T01:30:42.674211Z",
     "iopub.status.busy": "2024-03-01T01:30:42.673124Z",
     "iopub.status.idle": "2024-03-01T01:30:43.029869Z",
     "shell.execute_reply": "2024-03-01T01:30:43.028884Z"
    },
    "papermill": {
     "duration": 4.083853,
     "end_time": "2024-03-01T01:30:43.031889",
     "exception": false,
     "start_time": "2024-03-01T01:30:38.948036",
     "status": "completed"
    },
    "tags": []
   },
   "outputs": [
    {
     "name": "stdout",
     "output_type": "stream",
     "text": [
      "\u001b[1m1/1\u001b[0m \u001b[32m━━━━━━━━━━━━━━━━━━━━\u001b[0m\u001b[37m\u001b[0m \u001b[1m0s\u001b[0m 48ms/step\n",
      "\u001b[1m1/1\u001b[0m \u001b[32m━━━━━━━━━━━━━━━━━━━━\u001b[0m\u001b[37m\u001b[0m \u001b[1m0s\u001b[0m 18ms/step\n",
      "\u001b[1m1/1\u001b[0m \u001b[32m━━━━━━━━━━━━━━━━━━━━\u001b[0m\u001b[37m\u001b[0m \u001b[1m0s\u001b[0m 18ms/step\n",
      "\u001b[1m1/1\u001b[0m \u001b[32m━━━━━━━━━━━━━━━━━━━━\u001b[0m\u001b[37m\u001b[0m \u001b[1m0s\u001b[0m 19ms/step\n",
      "\u001b[1m1/1\u001b[0m \u001b[32m━━━━━━━━━━━━━━━━━━━━\u001b[0m\u001b[37m\u001b[0m \u001b[1m0s\u001b[0m 20ms/step\n",
      "Input Nepali sentence: तत्रापश्यत्स मेघाभं न्यग्रोधमृषिभिर्वृतम्। समन्ताद्यस्य ताश्शाखाश्शतयोजनमायताः।।\n",
      "Actual English Translation:  saw banyan tree branches spread sides measuring hundred yojanas looking like cloud providing shelter sages \n",
      "Predicted English Translation:  rama rama rama \n"
     ]
    }
   ],
   "source": [
    "k+=1\n",
    "(input_seq, actual_output), _ = next(test_gen)\n",
    "decoded_sentence = decode_sequence(input_seq)\n",
    "print('Input Nepali sentence:', X_train[k:k+1].values[0])\n",
    "print('Actual English Translation:', y_train[k:k+1].values[0][6:-4])\n",
    "print('Predicted English Translation:', decoded_sentence[:-4])"
   ]
  },
  {
   "cell_type": "code",
   "execution_count": 58,
   "id": "d4025676",
   "metadata": {
    "execution": {
     "iopub.execute_input": "2024-03-01T01:30:50.458329Z",
     "iopub.status.busy": "2024-03-01T01:30:50.457988Z",
     "iopub.status.idle": "2024-03-01T01:30:50.856964Z",
     "shell.execute_reply": "2024-03-01T01:30:50.856059Z"
    },
    "papermill": {
     "duration": 4.104186,
     "end_time": "2024-03-01T01:30:50.859014",
     "exception": false,
     "start_time": "2024-03-01T01:30:46.754828",
     "status": "completed"
    },
    "tags": []
   },
   "outputs": [
    {
     "name": "stdout",
     "output_type": "stream",
     "text": [
      "\u001b[1m1/1\u001b[0m \u001b[32m━━━━━━━━━━━━━━━━━━━━\u001b[0m\u001b[37m\u001b[0m \u001b[1m0s\u001b[0m 38ms/step\n",
      "\u001b[1m1/1\u001b[0m \u001b[32m━━━━━━━━━━━━━━━━━━━━\u001b[0m\u001b[37m\u001b[0m \u001b[1m0s\u001b[0m 20ms/step\n",
      "\u001b[1m1/1\u001b[0m \u001b[32m━━━━━━━━━━━━━━━━━━━━\u001b[0m\u001b[37m\u001b[0m \u001b[1m0s\u001b[0m 20ms/step\n",
      "\u001b[1m1/1\u001b[0m \u001b[32m━━━━━━━━━━━━━━━━━━━━\u001b[0m\u001b[37m\u001b[0m \u001b[1m0s\u001b[0m 20ms/step\n",
      "\u001b[1m1/1\u001b[0m \u001b[32m━━━━━━━━━━━━━━━━━━━━\u001b[0m\u001b[37m\u001b[0m \u001b[1m0s\u001b[0m 18ms/step\n",
      "Input Nepali sentence: तां तु दृष्ट्वा महाबाहो दारितां च स्तनान्तरे। आशीविष इव क्रुद्धो निश्वसन्नभ्यभाषथाः।।\n",
      "Actual English Translation:  seeing blood flowing breasts became furious like hissing serpent said \n",
      "Predicted English Translation:  rama rama rama \n"
     ]
    }
   ],
   "source": [
    "k+=1\n",
    "(input_seq, actual_output), _ = next(test_gen)\n",
    "decoded_sentence = decode_sequence(input_seq)\n",
    "print('Input Nepali sentence:', X_train[k:k+1].values[0])\n",
    "print('Actual English Translation:', y_train[k:k+1].values[0][6:-4])\n",
    "print('Predicted English Translation:', decoded_sentence[:-4])"
   ]
  },
  {
   "cell_type": "code",
   "execution_count": 59,
   "id": "9097d873",
   "metadata": {
    "execution": {
     "iopub.execute_input": "2024-03-01T01:30:58.328833Z",
     "iopub.status.busy": "2024-03-01T01:30:58.328479Z",
     "iopub.status.idle": "2024-03-01T01:30:58.827492Z",
     "shell.execute_reply": "2024-03-01T01:30:58.826429Z"
    },
    "papermill": {
     "duration": 4.20152,
     "end_time": "2024-03-01T01:30:58.829922",
     "exception": false,
     "start_time": "2024-03-01T01:30:54.628402",
     "status": "completed"
    },
    "tags": []
   },
   "outputs": [
    {
     "name": "stdout",
     "output_type": "stream",
     "text": [
      "\u001b[1m1/1\u001b[0m \u001b[32m━━━━━━━━━━━━━━━━━━━━\u001b[0m\u001b[37m\u001b[0m \u001b[1m0s\u001b[0m 48ms/step\n",
      "\u001b[1m1/1\u001b[0m \u001b[32m━━━━━━━━━━━━━━━━━━━━\u001b[0m\u001b[37m\u001b[0m \u001b[1m0s\u001b[0m 19ms/step\n",
      "\u001b[1m1/1\u001b[0m \u001b[32m━━━━━━━━━━━━━━━━━━━━\u001b[0m\u001b[37m\u001b[0m \u001b[1m0s\u001b[0m 19ms/step\n",
      "\u001b[1m1/1\u001b[0m \u001b[32m━━━━━━━━━━━━━━━━━━━━\u001b[0m\u001b[37m\u001b[0m \u001b[1m0s\u001b[0m 18ms/step\n",
      "\u001b[1m1/1\u001b[0m \u001b[32m━━━━━━━━━━━━━━━━━━━━\u001b[0m\u001b[37m\u001b[0m \u001b[1m0s\u001b[0m 19ms/step\n",
      "\u001b[1m1/1\u001b[0m \u001b[32m━━━━━━━━━━━━━━━━━━━━\u001b[0m\u001b[37m\u001b[0m \u001b[1m0s\u001b[0m 20ms/step\n",
      "\u001b[1m1/1\u001b[0m \u001b[32m━━━━━━━━━━━━━━━━━━━━\u001b[0m\u001b[37m\u001b[0m \u001b[1m0s\u001b[0m 19ms/step\n",
      "Input Nepali sentence: तदानीं राजा तान् प्रतिवदिष्यति युष्मानहं सत्यं वदामि ममैतेषां भ्रातृणां मध्ये कञ्चनैकं क्षुद्रतमं प्रति यद् अकुरुत तन्मां प्रत्यकुरुत।\n",
      "Actual English Translation:  king shall answer say unto verily say unto inasmuch ye done unto one least brethren ye done unto \n",
      "Predicted English Translation:  rama rama rama rama rama \n"
     ]
    }
   ],
   "source": [
    "k+=1\n",
    "(input_seq, actual_output), _ = next(test_gen)\n",
    "decoded_sentence = decode_sequence(input_seq)\n",
    "print('Input Nepali sentence:', X_train[k:k+1].values[0])\n",
    "print('Actual English Translation:', y_train[k:k+1].values[0][6:-4])\n",
    "print('Predicted English Translation:', decoded_sentence[:-4])"
   ]
  },
  {
   "cell_type": "code",
   "execution_count": 60,
   "id": "27c159a1",
   "metadata": {
    "execution": {
     "iopub.execute_input": "2024-03-01T01:31:06.355665Z",
     "iopub.status.busy": "2024-03-01T01:31:06.354799Z",
     "iopub.status.idle": "2024-03-01T01:31:06.847071Z",
     "shell.execute_reply": "2024-03-01T01:31:06.846208Z"
    },
    "papermill": {
     "duration": 4.238344,
     "end_time": "2024-03-01T01:31:06.849042",
     "exception": false,
     "start_time": "2024-03-01T01:31:02.610698",
     "status": "completed"
    },
    "tags": []
   },
   "outputs": [
    {
     "name": "stdout",
     "output_type": "stream",
     "text": [
      "\u001b[1m1/1\u001b[0m \u001b[32m━━━━━━━━━━━━━━━━━━━━\u001b[0m\u001b[37m\u001b[0m \u001b[1m0s\u001b[0m 43ms/step\n",
      "\u001b[1m1/1\u001b[0m \u001b[32m━━━━━━━━━━━━━━━━━━━━\u001b[0m\u001b[37m\u001b[0m \u001b[1m0s\u001b[0m 19ms/step\n",
      "\u001b[1m1/1\u001b[0m \u001b[32m━━━━━━━━━━━━━━━━━━━━\u001b[0m\u001b[37m\u001b[0m \u001b[1m0s\u001b[0m 19ms/step\n",
      "\u001b[1m1/1\u001b[0m \u001b[32m━━━━━━━━━━━━━━━━━━━━\u001b[0m\u001b[37m\u001b[0m \u001b[1m0s\u001b[0m 19ms/step\n",
      "\u001b[1m1/1\u001b[0m \u001b[32m━━━━━━━━━━━━━━━━━━━━\u001b[0m\u001b[37m\u001b[0m \u001b[1m0s\u001b[0m 18ms/step\n",
      "\u001b[1m1/1\u001b[0m \u001b[32m━━━━━━━━━━━━━━━━━━━━\u001b[0m\u001b[37m\u001b[0m \u001b[1m0s\u001b[0m 18ms/step\n",
      "\u001b[1m1/1\u001b[0m \u001b[32m━━━━━━━━━━━━━━━━━━━━\u001b[0m\u001b[37m\u001b[0m \u001b[1m0s\u001b[0m 19ms/step\n",
      "Input Nepali sentence: इन्द्राग्नी शर्म यछतम\n",
      "Actual English Translation:  indra agni send us bliss \n",
      "Predicted English Translation:  may thou us us us \n"
     ]
    }
   ],
   "source": [
    "k+=1\n",
    "(input_seq, actual_output), _ = next(test_gen)\n",
    "decoded_sentence = decode_sequence(input_seq)\n",
    "print('Input Nepali sentence:', X_train[k:k+1].values[0])\n",
    "print('Actual English Translation:', y_train[k:k+1].values[0][6:-4])\n",
    "print('Predicted English Translation:', decoded_sentence[:-4])"
   ]
  },
  {
   "cell_type": "code",
   "execution_count": 61,
   "id": "19e22070",
   "metadata": {
    "execution": {
     "iopub.execute_input": "2024-03-01T01:31:14.370097Z",
     "iopub.status.busy": "2024-03-01T01:31:14.369307Z",
     "iopub.status.idle": "2024-03-01T01:31:14.804198Z",
     "shell.execute_reply": "2024-03-01T01:31:14.803058Z"
    },
    "papermill": {
     "duration": 4.297193,
     "end_time": "2024-03-01T01:31:14.806427",
     "exception": false,
     "start_time": "2024-03-01T01:31:10.509234",
     "status": "completed"
    },
    "tags": []
   },
   "outputs": [
    {
     "name": "stdout",
     "output_type": "stream",
     "text": [
      "\u001b[1m1/1\u001b[0m \u001b[32m━━━━━━━━━━━━━━━━━━━━\u001b[0m\u001b[37m\u001b[0m \u001b[1m0s\u001b[0m 50ms/step\n",
      "\u001b[1m1/1\u001b[0m \u001b[32m━━━━━━━━━━━━━━━━━━━━\u001b[0m\u001b[37m\u001b[0m \u001b[1m0s\u001b[0m 18ms/step\n",
      "\u001b[1m1/1\u001b[0m \u001b[32m━━━━━━━━━━━━━━━━━━━━\u001b[0m\u001b[37m\u001b[0m \u001b[1m0s\u001b[0m 19ms/step\n",
      "\u001b[1m1/1\u001b[0m \u001b[32m━━━━━━━━━━━━━━━━━━━━\u001b[0m\u001b[37m\u001b[0m \u001b[1m0s\u001b[0m 20ms/step\n",
      "\u001b[1m1/1\u001b[0m \u001b[32m━━━━━━━━━━━━━━━━━━━━\u001b[0m\u001b[37m\u001b[0m \u001b[1m0s\u001b[0m 21ms/step\n",
      "\u001b[1m1/1\u001b[0m \u001b[32m━━━━━━━━━━━━━━━━━━━━\u001b[0m\u001b[37m\u001b[0m \u001b[1m0s\u001b[0m 20ms/step\n",
      "Input Nepali sentence: किन्तु यीशुस्तां किमपि नोक्तवान् ततः शिष्या आगत्य तं निवेदयामासुः एषा योषिद् अस्माकं पश्चाद् उच्चैराहूयागच्छति एनां विसृजतु।\n",
      "Actual English Translation:  answered word disciples came besought saying send away crieth us \n",
      "Predicted English Translation:  rama rama rama rama \n"
     ]
    }
   ],
   "source": [
    "k+=1\n",
    "(input_seq, actual_output), _ = next(test_gen)\n",
    "decoded_sentence = decode_sequence(input_seq)\n",
    "print('Input Nepali sentence:', X_train[k:k+1].values[0])\n",
    "print('Actual English Translation:', y_train[k:k+1].values[0][6:-4])\n",
    "print('Predicted English Translation:', decoded_sentence[:-4])"
   ]
  },
  {
   "cell_type": "code",
   "execution_count": 62,
   "id": "87bb8eff",
   "metadata": {
    "execution": {
     "iopub.execute_input": "2024-03-01T01:31:22.181612Z",
     "iopub.status.busy": "2024-03-01T01:31:22.181243Z",
     "iopub.status.idle": "2024-03-01T01:31:22.863986Z",
     "shell.execute_reply": "2024-03-01T01:31:22.863028Z"
    },
    "papermill": {
     "duration": 4.394577,
     "end_time": "2024-03-01T01:31:22.865989",
     "exception": false,
     "start_time": "2024-03-01T01:31:18.471412",
     "status": "completed"
    },
    "tags": []
   },
   "outputs": [
    {
     "name": "stdout",
     "output_type": "stream",
     "text": [
      "\u001b[1m1/1\u001b[0m \u001b[32m━━━━━━━━━━━━━━━━━━━━\u001b[0m\u001b[37m\u001b[0m \u001b[1m0s\u001b[0m 45ms/step\n",
      "\u001b[1m1/1\u001b[0m \u001b[32m━━━━━━━━━━━━━━━━━━━━\u001b[0m\u001b[37m\u001b[0m \u001b[1m0s\u001b[0m 20ms/step\n",
      "\u001b[1m1/1\u001b[0m \u001b[32m━━━━━━━━━━━━━━━━━━━━\u001b[0m\u001b[37m\u001b[0m \u001b[1m0s\u001b[0m 19ms/step\n",
      "\u001b[1m1/1\u001b[0m \u001b[32m━━━━━━━━━━━━━━━━━━━━\u001b[0m\u001b[37m\u001b[0m \u001b[1m0s\u001b[0m 20ms/step\n",
      "\u001b[1m1/1\u001b[0m \u001b[32m━━━━━━━━━━━━━━━━━━━━\u001b[0m\u001b[37m\u001b[0m \u001b[1m0s\u001b[0m 20ms/step\n",
      "\u001b[1m1/1\u001b[0m \u001b[32m━━━━━━━━━━━━━━━━━━━━\u001b[0m\u001b[37m\u001b[0m \u001b[1m0s\u001b[0m 18ms/step\n",
      "\u001b[1m1/1\u001b[0m \u001b[32m━━━━━━━━━━━━━━━━━━━━\u001b[0m\u001b[37m\u001b[0m \u001b[1m0s\u001b[0m 18ms/step\n",
      "\u001b[1m1/1\u001b[0m \u001b[32m━━━━━━━━━━━━━━━━━━━━\u001b[0m\u001b[37m\u001b[0m \u001b[1m0s\u001b[0m 18ms/step\n",
      "\u001b[1m1/1\u001b[0m \u001b[32m━━━━━━━━━━━━━━━━━━━━\u001b[0m\u001b[37m\u001b[0m \u001b[1m0s\u001b[0m 19ms/step\n",
      "\u001b[1m1/1\u001b[0m \u001b[32m━━━━━━━━━━━━━━━━━━━━\u001b[0m\u001b[37m\u001b[0m \u001b[1m0s\u001b[0m 19ms/step\n",
      "Input Nepali sentence: चारुप्रतीकाहुतः\n",
      "Actual English Translation:  worshipped fair look upon \n",
      "Predicted English Translation:  may thou thou thou us us us us \n"
     ]
    }
   ],
   "source": [
    "k+=1\n",
    "(input_seq, actual_output), _ = next(test_gen)\n",
    "decoded_sentence = decode_sequence(input_seq)\n",
    "print('Input Nepali sentence:', X_train[k:k+1].values[0])\n",
    "print('Actual English Translation:', y_train[k:k+1].values[0][6:-4])\n",
    "print('Predicted English Translation:', decoded_sentence[:-4])"
   ]
  },
  {
   "cell_type": "code",
   "execution_count": 63,
   "id": "2a841385",
   "metadata": {
    "execution": {
     "iopub.execute_input": "2024-03-01T01:31:30.252784Z",
     "iopub.status.busy": "2024-03-01T01:31:30.252381Z",
     "iopub.status.idle": "2024-03-01T01:31:30.607950Z",
     "shell.execute_reply": "2024-03-01T01:31:30.606923Z"
    },
    "papermill": {
     "duration": 4.066919,
     "end_time": "2024-03-01T01:31:30.610091",
     "exception": false,
     "start_time": "2024-03-01T01:31:26.543172",
     "status": "completed"
    },
    "tags": []
   },
   "outputs": [
    {
     "name": "stdout",
     "output_type": "stream",
     "text": [
      "\u001b[1m1/1\u001b[0m \u001b[32m━━━━━━━━━━━━━━━━━━━━\u001b[0m\u001b[37m\u001b[0m \u001b[1m0s\u001b[0m 46ms/step\n",
      "\u001b[1m1/1\u001b[0m \u001b[32m━━━━━━━━━━━━━━━━━━━━\u001b[0m\u001b[37m\u001b[0m \u001b[1m0s\u001b[0m 20ms/step\n",
      "\u001b[1m1/1\u001b[0m \u001b[32m━━━━━━━━━━━━━━━━━━━━\u001b[0m\u001b[37m\u001b[0m \u001b[1m0s\u001b[0m 20ms/step\n",
      "\u001b[1m1/1\u001b[0m \u001b[32m━━━━━━━━━━━━━━━━━━━━\u001b[0m\u001b[37m\u001b[0m \u001b[1m0s\u001b[0m 19ms/step\n",
      "\u001b[1m1/1\u001b[0m \u001b[32m━━━━━━━━━━━━━━━━━━━━\u001b[0m\u001b[37m\u001b[0m \u001b[1m0s\u001b[0m 19ms/step\n",
      "Input Nepali sentence: रामशोकमहाभोगस्सीताविरहपारगः। श्वसितोर्मि महावर्तो बाष्पफेनजालाविलः। बाहुविक्षेपमीनौघो विक्रन्दित महास्वनः। प्रकीर्णकेशशैवालः कैकेयीबडबामुखः। ममाश्रुवेगप्रभवः कुब्जावाक्यमहाग्रहः। वरवेलो नृशंसाया रामप्रव्राजनायतः। यस्मिन्बत निमग्नोऽहं कौसल्ये राघवं विना। दुस्तरो जीवता देवि मयाऽयं शोकसागरः।।\n",
      "Actual English Translation:  queen kausalya completely immersed ocean sorrow misfortune due ramas separation breadth sitas separation end shore sighs turbulent waves whirlpools tears foam turbid waters waving arms fishes cries agony roars dishevelled hair moss kaikeyi mouth badaba copious tears source words hunchback manthara monstrous crocodiles cruel boons kaikeyi shores without rama cannot cross sea sorrow alive ah pity \n",
      "Predicted English Translation:  rama rama rama \n"
     ]
    }
   ],
   "source": [
    "k+=1\n",
    "(input_seq, actual_output), _ = next(test_gen)\n",
    "decoded_sentence = decode_sequence(input_seq)\n",
    "print('Input Nepali sentence:', X_train[k:k+1].values[0])\n",
    "print('Actual English Translation:', y_train[k:k+1].values[0][6:-4])\n",
    "print('Predicted English Translation:', decoded_sentence[:-4])"
   ]
  },
  {
   "cell_type": "code",
   "execution_count": 64,
   "id": "52a7654e",
   "metadata": {
    "execution": {
     "iopub.execute_input": "2024-03-01T01:31:38.049949Z",
     "iopub.status.busy": "2024-03-01T01:31:38.049609Z",
     "iopub.status.idle": "2024-03-01T01:31:38.557309Z",
     "shell.execute_reply": "2024-03-01T01:31:38.556059Z"
    },
    "papermill": {
     "duration": 4.20963,
     "end_time": "2024-03-01T01:31:38.559636",
     "exception": false,
     "start_time": "2024-03-01T01:31:34.350006",
     "status": "completed"
    },
    "tags": []
   },
   "outputs": [
    {
     "name": "stdout",
     "output_type": "stream",
     "text": [
      "\u001b[1m1/1\u001b[0m \u001b[32m━━━━━━━━━━━━━━━━━━━━\u001b[0m\u001b[37m\u001b[0m \u001b[1m0s\u001b[0m 39ms/step\n",
      "\u001b[1m1/1\u001b[0m \u001b[32m━━━━━━━━━━━━━━━━━━━━\u001b[0m\u001b[37m\u001b[0m \u001b[1m0s\u001b[0m 19ms/step\n",
      "\u001b[1m1/1\u001b[0m \u001b[32m━━━━━━━━━━━━━━━━━━━━\u001b[0m\u001b[37m\u001b[0m \u001b[1m0s\u001b[0m 18ms/step\n",
      "\u001b[1m1/1\u001b[0m \u001b[32m━━━━━━━━━━━━━━━━━━━━\u001b[0m\u001b[37m\u001b[0m \u001b[1m0s\u001b[0m 21ms/step\n",
      "\u001b[1m1/1\u001b[0m \u001b[32m━━━━━━━━━━━━━━━━━━━━\u001b[0m\u001b[37m\u001b[0m \u001b[1m0s\u001b[0m 20ms/step\n",
      "\u001b[1m1/1\u001b[0m \u001b[32m━━━━━━━━━━━━━━━━━━━━\u001b[0m\u001b[37m\u001b[0m \u001b[1m0s\u001b[0m 22ms/step\n",
      "\u001b[1m1/1\u001b[0m \u001b[32m━━━━━━━━━━━━━━━━━━━━\u001b[0m\u001b[37m\u001b[0m \u001b[1m0s\u001b[0m 22ms/step\n",
      "Input Nepali sentence: वसिष्ठस्तु तदा राममुक्त्वा राजपुरोहितः। अब्रवीद्धर्मसंयुक्तं पुनरेवापरं वचः।।\n",
      "Actual English Translation:  vasistha family priest continued speak rama righteousness \n",
      "Predicted English Translation:  thou us us us us \n"
     ]
    }
   ],
   "source": [
    "k+=1\n",
    "(input_seq, actual_output), _ = next(test_gen)\n",
    "decoded_sentence = decode_sequence(input_seq)\n",
    "print('Input Nepali sentence:', X_train[k:k+1].values[0])\n",
    "print('Actual English Translation:', y_train[k:k+1].values[0][6:-4])\n",
    "print('Predicted English Translation:', decoded_sentence[:-4])"
   ]
  },
  {
   "cell_type": "code",
   "execution_count": 65,
   "id": "a6e1a281",
   "metadata": {
    "execution": {
     "iopub.execute_input": "2024-03-01T01:31:46.106394Z",
     "iopub.status.busy": "2024-03-01T01:31:46.105660Z",
     "iopub.status.idle": "2024-03-01T01:31:46.603386Z",
     "shell.execute_reply": "2024-03-01T01:31:46.602493Z"
    },
    "papermill": {
     "duration": 4.198504,
     "end_time": "2024-03-01T01:31:46.605278",
     "exception": false,
     "start_time": "2024-03-01T01:31:42.406774",
     "status": "completed"
    },
    "tags": []
   },
   "outputs": [
    {
     "name": "stdout",
     "output_type": "stream",
     "text": [
      "\u001b[1m1/1\u001b[0m \u001b[32m━━━━━━━━━━━━━━━━━━━━\u001b[0m\u001b[37m\u001b[0m \u001b[1m0s\u001b[0m 43ms/step\n",
      "\u001b[1m1/1\u001b[0m \u001b[32m━━━━━━━━━━━━━━━━━━━━\u001b[0m\u001b[37m\u001b[0m \u001b[1m0s\u001b[0m 20ms/step\n",
      "\u001b[1m1/1\u001b[0m \u001b[32m━━━━━━━━━━━━━━━━━━━━\u001b[0m\u001b[37m\u001b[0m \u001b[1m0s\u001b[0m 19ms/step\n",
      "\u001b[1m1/1\u001b[0m \u001b[32m━━━━━━━━━━━━━━━━━━━━\u001b[0m\u001b[37m\u001b[0m \u001b[1m0s\u001b[0m 19ms/step\n",
      "\u001b[1m1/1\u001b[0m \u001b[32m━━━━━━━━━━━━━━━━━━━━\u001b[0m\u001b[37m\u001b[0m \u001b[1m0s\u001b[0m 19ms/step\n",
      "\u001b[1m1/1\u001b[0m \u001b[32m━━━━━━━━━━━━━━━━━━━━\u001b[0m\u001b[37m\u001b[0m \u001b[1m0s\u001b[0m 18ms/step\n",
      "\u001b[1m1/1\u001b[0m \u001b[32m━━━━━━━━━━━━━━━━━━━━\u001b[0m\u001b[37m\u001b[0m \u001b[1m0s\u001b[0m 18ms/step\n",
      "Input Nepali sentence: अपास्मात परेयान न तदोको अस्ति पर्णन्तमन्यमरणं चिदिचःेत\n",
      "Actual English Translation:  let departno home rest rather seek stranger support \n",
      "Predicted English Translation:  may thou us us us \n"
     ]
    }
   ],
   "source": [
    "k+=1\n",
    "(input_seq, actual_output), _ = next(test_gen)\n",
    "decoded_sentence = decode_sequence(input_seq)\n",
    "print('Input Nepali sentence:', X_train[k:k+1].values[0])\n",
    "print('Actual English Translation:', y_train[k:k+1].values[0][6:-4])\n",
    "print('Predicted English Translation:', decoded_sentence[:-4])"
   ]
  },
  {
   "cell_type": "code",
   "execution_count": null,
   "id": "fe170d71",
   "metadata": {
    "papermill": {
     "duration": 3.707997,
     "end_time": "2024-03-01T01:31:54.014411",
     "exception": false,
     "start_time": "2024-03-01T01:31:50.306414",
     "status": "completed"
    },
    "tags": []
   },
   "outputs": [],
   "source": []
  },
  {
   "cell_type": "code",
   "execution_count": null,
   "id": "2297e193",
   "metadata": {
    "papermill": {
     "duration": 3.689157,
     "end_time": "2024-03-01T01:32:01.273468",
     "exception": false,
     "start_time": "2024-03-01T01:31:57.584311",
     "status": "completed"
    },
    "tags": []
   },
   "outputs": [],
   "source": []
  }
 ],
 "metadata": {
  "accelerator": "GPU",
  "colab": {
   "gpuType": "T4",
   "provenance": []
  },
  "kaggle": {
   "accelerator": "nvidiaTeslaT4",
   "dataSources": [
    {
     "datasetId": 4513923,
     "sourceId": 7727108,
     "sourceType": "datasetVersion"
    }
   ],
   "dockerImageVersionId": 30665,
   "isGpuEnabled": true,
   "isInternetEnabled": true,
   "language": "python",
   "sourceType": "notebook"
  },
  "kernelspec": {
   "display_name": "Python 3",
   "language": "python",
   "name": "python3"
  },
  "language_info": {
   "codemirror_mode": {
    "name": "ipython",
    "version": 3
   },
   "file_extension": ".py",
   "mimetype": "text/x-python",
   "name": "python",
   "nbconvert_exporter": "python",
   "pygments_lexer": "ipython3",
   "version": "3.10.13"
  },
  "papermill": {
   "default_parameters": {},
   "duration": 21888.911276,
   "end_time": "2024-03-01T01:32:07.924892",
   "environment_variables": {},
   "exception": null,
   "input_path": "__notebook__.ipynb",
   "output_path": "__notebook__.ipynb",
   "parameters": {},
   "start_time": "2024-02-29T19:27:19.013616",
   "version": "2.5.0"
  }
 },
 "nbformat": 4,
 "nbformat_minor": 5
}
